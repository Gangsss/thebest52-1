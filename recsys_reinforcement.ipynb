{
 "cells": [
  {
   "cell_type": "code",
   "execution_count": 1,
   "metadata": {
    "ExecuteTime": {
     "end_time": "2020-11-24T14:05:58.905827Z",
     "start_time": "2020-11-24T14:05:58.903459Z"
    },
    "id": "4VCoNiElLnK4"
   },
   "outputs": [],
   "source": [
    "#from google.colab import files"
   ]
  },
  {
   "cell_type": "code",
   "execution_count": 1,
   "metadata": {
    "ExecuteTime": {
     "end_time": "2020-11-27T02:40:37.147361Z",
     "start_time": "2020-11-27T02:40:34.693179Z"
    },
    "id": "uKmjjI_7qfaP"
   },
   "outputs": [],
   "source": [
    "import itertools\n",
    "import pandas as pd\n",
    "import numpy as np\n",
    "import random\n",
    "import csv\n",
    "import time\n",
    "\n",
    "import matplotlib.pyplot as plt\n",
    "\n",
    "import tensorflow as tf\n",
    "\n",
    "import keras.backend as K\n",
    "from keras import Sequential\n",
    "from keras.layers import Dense, Dropout"
   ]
  },
  {
   "cell_type": "markdown",
   "metadata": {
    "id": "gwoaes5UyJJS"
   },
   "source": [
    "# Book data Generator"
   ]
  },
  {
   "cell_type": "code",
   "execution_count": 3,
   "metadata": {
    "ExecuteTime": {
     "end_time": "2020-11-24T14:06:01.187978Z",
     "start_time": "2020-11-24T14:06:01.186634Z"
    },
    "id": "K2H9eM4YuOy6"
   },
   "outputs": [],
   "source": [
    "# !wget http://files.grouplens.org/datasets/movielens/ml-100k.zip\n",
    "# !unzip -q ml-100k.zip"
   ]
  },
  {
   "cell_type": "code",
   "execution_count": 4,
   "metadata": {
    "ExecuteTime": {
     "end_time": "2020-11-24T14:06:05.154481Z",
     "start_time": "2020-11-24T14:06:01.188930Z"
    },
    "colab": {
     "base_uri": "https://localhost:8080/"
    },
    "id": "I6Dp5givIpTE",
    "outputId": "1a39c29a-960e-4251-876b-99f828b0162d"
   },
   "outputs": [
    {
     "name": "stdout",
     "output_type": "stream",
     "text": [
      "--2020-11-24 23:06:01--  http://deepyeti.ucsd.edu/jianmo/amazon/categoryFilesSmall/Books.csv\n",
      "Resolving deepyeti.ucsd.edu (deepyeti.ucsd.edu)... 169.228.63.50\n",
      "접속 deepyeti.ucsd.edu (deepyeti.ucsd.edu)|169.228.63.50|:80... 접속됨.\n",
      "HTTP request sent, awaiting response... 200 OK\n",
      "Length: 2140933459 (2.0G) [application/octet-stream]\n",
      "Saving to: ‘Books.csv.1’\n",
      "\n",
      "Books.csv.1           0%[                    ]   2.43M   770KB/s    eta 45m 11s^C\n"
     ]
    }
   ],
   "source": [
    "!wget http://deepyeti.ucsd.edu/jianmo/amazon/categoryFilesSmall/Books.csv"
   ]
  },
  {
   "cell_type": "markdown",
   "metadata": {},
   "source": [
    "## 1. 데이터 전처리"
   ]
  },
  {
   "cell_type": "markdown",
   "metadata": {},
   "source": [
    "### Integer로 Encoding"
   ]
  },
  {
   "cell_type": "code",
   "execution_count": 2,
   "metadata": {
    "ExecuteTime": {
     "end_time": "2020-11-27T01:40:31.456270Z",
     "start_time": "2020-11-27T01:40:09.627933Z"
    },
    "id": "66h8vW3mEA03"
   },
   "outputs": [],
   "source": [
    "pure_datapath = './data/Books.csv'\n",
    "pure_data = pd.read_csv(pure_datapath, names=['item', 'user', 'rating', 'timestamp'])"
   ]
  },
  {
   "cell_type": "code",
   "execution_count": 3,
   "metadata": {
    "ExecuteTime": {
     "end_time": "2020-11-27T01:40:43.536816Z",
     "start_time": "2020-11-27T01:40:43.519280Z"
    }
   },
   "outputs": [
    {
     "data": {
      "text/html": [
       "<div>\n",
       "<style scoped>\n",
       "    .dataframe tbody tr th:only-of-type {\n",
       "        vertical-align: middle;\n",
       "    }\n",
       "\n",
       "    .dataframe tbody tr th {\n",
       "        vertical-align: top;\n",
       "    }\n",
       "\n",
       "    .dataframe thead th {\n",
       "        text-align: right;\n",
       "    }\n",
       "</style>\n",
       "<table border=\"1\" class=\"dataframe\">\n",
       "  <thead>\n",
       "    <tr style=\"text-align: right;\">\n",
       "      <th></th>\n",
       "      <th>item</th>\n",
       "      <th>user</th>\n",
       "      <th>rating</th>\n",
       "      <th>timestamp</th>\n",
       "    </tr>\n",
       "  </thead>\n",
       "  <tbody>\n",
       "    <tr>\n",
       "      <th>0</th>\n",
       "      <td>0001713353</td>\n",
       "      <td>A1C6M8LCIX4M6M</td>\n",
       "      <td>5.0</td>\n",
       "      <td>1123804800</td>\n",
       "    </tr>\n",
       "    <tr>\n",
       "      <th>1</th>\n",
       "      <td>0001713353</td>\n",
       "      <td>A1REUF3A1YCPHM</td>\n",
       "      <td>5.0</td>\n",
       "      <td>1112140800</td>\n",
       "    </tr>\n",
       "    <tr>\n",
       "      <th>2</th>\n",
       "      <td>0001713353</td>\n",
       "      <td>A1YRBRK2XM5D5</td>\n",
       "      <td>5.0</td>\n",
       "      <td>1081036800</td>\n",
       "    </tr>\n",
       "    <tr>\n",
       "      <th>3</th>\n",
       "      <td>0001713353</td>\n",
       "      <td>A1V8ZR5P78P4ZU</td>\n",
       "      <td>5.0</td>\n",
       "      <td>1077321600</td>\n",
       "    </tr>\n",
       "    <tr>\n",
       "      <th>4</th>\n",
       "      <td>0001713353</td>\n",
       "      <td>A2ZB06582NXCIV</td>\n",
       "      <td>5.0</td>\n",
       "      <td>1475452800</td>\n",
       "    </tr>\n",
       "  </tbody>\n",
       "</table>\n",
       "</div>"
      ],
      "text/plain": [
       "         item            user  rating   timestamp\n",
       "0  0001713353  A1C6M8LCIX4M6M     5.0  1123804800\n",
       "1  0001713353  A1REUF3A1YCPHM     5.0  1112140800\n",
       "2  0001713353   A1YRBRK2XM5D5     5.0  1081036800\n",
       "3  0001713353  A1V8ZR5P78P4ZU     5.0  1077321600\n",
       "4  0001713353  A2ZB06582NXCIV     5.0  1475452800"
      ]
     },
     "execution_count": 3,
     "metadata": {},
     "output_type": "execute_result"
    }
   ],
   "source": [
    "pure_data.head()"
   ]
  },
  {
   "cell_type": "code",
   "execution_count": 4,
   "metadata": {
    "ExecuteTime": {
     "end_time": "2020-11-27T01:41:54.357065Z",
     "start_time": "2020-11-27T01:40:44.525991Z"
    }
   },
   "outputs": [
    {
     "data": {
      "text/html": [
       "<div>\n",
       "<style scoped>\n",
       "    .dataframe tbody tr th:only-of-type {\n",
       "        vertical-align: middle;\n",
       "    }\n",
       "\n",
       "    .dataframe tbody tr th {\n",
       "        vertical-align: top;\n",
       "    }\n",
       "\n",
       "    .dataframe thead th {\n",
       "        text-align: right;\n",
       "    }\n",
       "</style>\n",
       "<table border=\"1\" class=\"dataframe\">\n",
       "  <thead>\n",
       "    <tr style=\"text-align: right;\">\n",
       "      <th></th>\n",
       "      <th>item</th>\n",
       "      <th>user</th>\n",
       "      <th>rating</th>\n",
       "      <th>timestamp</th>\n",
       "    </tr>\n",
       "  </thead>\n",
       "  <tbody>\n",
       "    <tr>\n",
       "      <th>0</th>\n",
       "      <td>122</td>\n",
       "      <td>1376859</td>\n",
       "      <td>5.0</td>\n",
       "      <td>1123804800</td>\n",
       "    </tr>\n",
       "    <tr>\n",
       "      <th>1</th>\n",
       "      <td>122</td>\n",
       "      <td>3094405</td>\n",
       "      <td>5.0</td>\n",
       "      <td>1112140800</td>\n",
       "    </tr>\n",
       "    <tr>\n",
       "      <th>2</th>\n",
       "      <td>122</td>\n",
       "      <td>3923726</td>\n",
       "      <td>5.0</td>\n",
       "      <td>1081036800</td>\n",
       "    </tr>\n",
       "    <tr>\n",
       "      <th>3</th>\n",
       "      <td>122</td>\n",
       "      <td>3527298</td>\n",
       "      <td>5.0</td>\n",
       "      <td>1077321600</td>\n",
       "    </tr>\n",
       "    <tr>\n",
       "      <th>4</th>\n",
       "      <td>122</td>\n",
       "      <td>8042828</td>\n",
       "      <td>5.0</td>\n",
       "      <td>1475452800</td>\n",
       "    </tr>\n",
       "  </tbody>\n",
       "</table>\n",
       "</div>"
      ],
      "text/plain": [
       "   item     user  rating   timestamp\n",
       "0   122  1376859     5.0  1123804800\n",
       "1   122  3094405     5.0  1112140800\n",
       "2   122  3923726     5.0  1081036800\n",
       "3   122  3527298     5.0  1077321600\n",
       "4   122  8042828     5.0  1475452800"
      ]
     },
     "execution_count": 4,
     "metadata": {},
     "output_type": "execute_result"
    }
   ],
   "source": [
    "# User: str to int\n",
    "pure_data.user = pd.Categorical(pure_data.user)\n",
    "pure_data['user'] = pure_data.user.cat.codes\n",
    "\n",
    "# Item: str to int\n",
    "pure_data.item = pd.Categorical(pure_data.item)\n",
    "pure_data['item'] = pure_data.item.cat.codes\n",
    "\n",
    "pure_data.head()"
   ]
  },
  {
   "cell_type": "code",
   "execution_count": 5,
   "metadata": {
    "ExecuteTime": {
     "end_time": "2020-11-27T01:42:34.303660Z",
     "start_time": "2020-11-27T01:42:34.157756Z"
    }
   },
   "outputs": [
    {
     "name": "stdout",
     "output_type": "stream",
     "text": [
      "<class 'pandas.core.frame.DataFrame'>\n",
      "RangeIndex: 51311621 entries, 0 to 51311620\n",
      "Data columns (total 4 columns):\n",
      " #   Column     Dtype  \n",
      "---  ------     -----  \n",
      " 0   item       int32  \n",
      " 1   user       int32  \n",
      " 2   rating     float64\n",
      " 3   timestamp  int64  \n",
      "dtypes: float64(1), int32(2), int64(1)\n",
      "memory usage: 1.1 GB\n"
     ]
    }
   ],
   "source": [
    "pure_data.info()"
   ]
  },
  {
   "cell_type": "code",
   "execution_count": 6,
   "metadata": {
    "ExecuteTime": {
     "end_time": "2020-11-27T01:42:38.949016Z",
     "start_time": "2020-11-27T01:42:38.860840Z"
    }
   },
   "outputs": [],
   "source": [
    "pure_data['rating'] = pure_data['rating'].astype('int8')"
   ]
  },
  {
   "cell_type": "code",
   "execution_count": 7,
   "metadata": {
    "ExecuteTime": {
     "end_time": "2020-11-27T01:42:48.729701Z",
     "start_time": "2020-11-27T01:42:48.724240Z"
    }
   },
   "outputs": [
    {
     "name": "stdout",
     "output_type": "stream",
     "text": [
      "<class 'pandas.core.frame.DataFrame'>\n",
      "RangeIndex: 51311621 entries, 0 to 51311620\n",
      "Data columns (total 4 columns):\n",
      " #   Column     Dtype\n",
      "---  ------     -----\n",
      " 0   item       int32\n",
      " 1   user       int32\n",
      " 2   rating     int8 \n",
      " 3   timestamp  int64\n",
      "dtypes: int32(2), int64(1), int8(1)\n",
      "memory usage: 831.9 MB\n"
     ]
    }
   ],
   "source": [
    "pure_data.info()"
   ]
  },
  {
   "cell_type": "code",
   "execution_count": 10,
   "metadata": {
    "ExecuteTime": {
     "end_time": "2020-11-27T01:47:13.955835Z",
     "start_time": "2020-11-27T01:46:14.952154Z"
    }
   },
   "outputs": [],
   "source": [
    "pure_data.to_csv('./data/books_idx.csv', index=False)"
   ]
  },
  {
   "cell_type": "markdown",
   "metadata": {},
   "source": [
    "### 데이터 분석"
   ]
  },
  {
   "cell_type": "code",
   "execution_count": 8,
   "metadata": {
    "ExecuteTime": {
     "end_time": "2020-11-27T01:43:26.601582Z",
     "start_time": "2020-11-27T01:43:23.662952Z"
    }
   },
   "outputs": [
    {
     "name": "stdout",
     "output_type": "stream",
     "text": [
      "Unique users in the total data:  15362619\n",
      "Unique item in the total data:  2930451\n",
      "Unique rating in the total data:  6\n",
      "Unique timestamp in the total data:  7837\n"
     ]
    },
    {
     "data": {
      "text/plain": [
       "item         0\n",
       "user         0\n",
       "rating       0\n",
       "timestamp    0\n",
       "dtype: int64"
      ]
     },
     "execution_count": 8,
     "metadata": {},
     "output_type": "execute_result"
    }
   ],
   "source": [
    "print(\"Unique users in the total data: \", pure_data.user.nunique())\n",
    "print(\"Unique item in the total data: \", pure_data.item.nunique())\n",
    "print(\"Unique rating in the total data: \", pure_data.rating.nunique())\n",
    "print(\"Unique timestamp in the total data: \", pure_data.timestamp.nunique())\n",
    "pure_data.isnull().sum()"
   ]
  },
  {
   "cell_type": "markdown",
   "metadata": {},
   "source": [
    "### Rating의 분포"
   ]
  },
  {
   "cell_type": "code",
   "execution_count": 53,
   "metadata": {
    "ExecuteTime": {
     "end_time": "2020-11-27T02:14:56.990654Z",
     "start_time": "2020-11-27T02:14:56.684918Z"
    }
   },
   "outputs": [],
   "source": [
    "rating_value_counts = pure_data['rating'].value_counts()"
   ]
  },
  {
   "cell_type": "code",
   "execution_count": 54,
   "metadata": {
    "ExecuteTime": {
     "end_time": "2020-11-27T02:14:57.064356Z",
     "start_time": "2020-11-27T02:14:57.062508Z"
    }
   },
   "outputs": [],
   "source": [
    "rating_value_counts_ratings = rating_value_counts.keys().to_numpy()\n",
    "rating_value_counts_counts = rating_value_counts.to_numpy()"
   ]
  },
  {
   "cell_type": "code",
   "execution_count": 55,
   "metadata": {
    "ExecuteTime": {
     "end_time": "2020-11-27T02:14:59.616736Z",
     "start_time": "2020-11-27T02:14:58.451620Z"
    }
   },
   "outputs": [
    {
     "name": "stdout",
     "output_type": "stream",
     "text": [
      "5    33979736\n",
      "4     9557650\n",
      "3     3835225\n",
      "1     2088314\n",
      "2     1850688\n",
      "0           8\n",
      "Name: rating, dtype: int64\n"
     ]
    },
    {
     "data": {
      "image/png": "[encoded data removed]",
      "text/plain": [
       "<Figure size 720x360 with 1 Axes>"
      ]
     },
     "metadata": {},
     "output_type": "display_data"
    }
   ],
   "source": [
    "plt.figure(figsize=(10, 5), facecolor='w')\n",
    "plt.hist(pure_data['rating'], bins=6)\n",
    "print(pure_data.rating.value_counts())"
   ]
  },
  {
   "cell_type": "code",
   "execution_count": 57,
   "metadata": {
    "ExecuteTime": {
     "end_time": "2020-11-27T02:15:13.282110Z",
     "start_time": "2020-11-27T02:15:13.279540Z"
    }
   },
   "outputs": [
    {
     "name": "stdout",
     "output_type": "stream",
     "text": [
      "rating 4, 5의 비율:  84.84897797323534\n"
     ]
    }
   ],
   "source": [
    "print('rating 4, 5의 비율: ', sum(rating_value_counts_counts[:2]) / sum(rating_value_counts_counts) * 100)"
   ]
  },
  {
   "cell_type": "code",
   "execution_count": 59,
   "metadata": {
    "ExecuteTime": {
     "end_time": "2020-11-27T02:15:47.476662Z",
     "start_time": "2020-11-27T02:15:47.471618Z"
    }
   },
   "outputs": [
    {
     "name": "stdout",
     "output_type": "stream",
     "text": [
      "rating 5의 비율:  66.22230079225133\n"
     ]
    }
   ],
   "source": [
    "print('rating 5의 비율: ', sum(rating_value_counts_counts[:1]) / sum(rating_value_counts_counts) * 100)"
   ]
  },
  {
   "cell_type": "markdown",
   "metadata": {},
   "source": [
    "### rating 개수에 따른 user의 분포"
   ]
  },
  {
   "cell_type": "code",
   "execution_count": 11,
   "metadata": {
    "ExecuteTime": {
     "end_time": "2020-11-27T01:49:39.621352Z",
     "start_time": "2020-11-27T01:49:36.233721Z"
    }
   },
   "outputs": [
    {
     "name": "stdout",
     "output_type": "stream",
     "text": [
      "6831279     9684\n",
      "5775864     9074\n",
      "8373854     7077\n",
      "13318960    5842\n",
      "3752841     4437\n",
      "            ... \n",
      "2965879        1\n",
      "7162230        1\n",
      "11358581       1\n",
      "7194982        1\n",
      "8074499        1\n",
      "Name: user, Length: 15362619, dtype: int64\n"
     ]
    }
   ],
   "source": [
    "user_value_counts = pure_data['user'].value_counts()\n",
    "print(user_value_counts)"
   ]
  },
  {
   "cell_type": "code",
   "execution_count": 15,
   "metadata": {
    "ExecuteTime": {
     "end_time": "2020-11-27T01:51:25.422524Z",
     "start_time": "2020-11-27T01:51:25.420253Z"
    }
   },
   "outputs": [],
   "source": [
    "user_value_counts_users = user_value_counts.keys().to_numpy()\n",
    "user_value_counts_counts = user_value_counts.to_numpy()"
   ]
  },
  {
   "cell_type": "code",
   "execution_count": 16,
   "metadata": {
    "ExecuteTime": {
     "end_time": "2020-11-27T01:51:29.932104Z",
     "start_time": "2020-11-27T01:51:29.929592Z"
    }
   },
   "outputs": [
    {
     "name": "stdout",
     "output_type": "stream",
     "text": [
      "[ 6831279  5775864  8373854 ... 11358581  7194982  8074499]\n",
      "[9684 9074 7077 ...    1    1    1]\n"
     ]
    }
   ],
   "source": [
    "print(user_value_counts_users)\n",
    "print(user_value_counts_counts)"
   ]
  },
  {
   "cell_type": "code",
   "execution_count": 17,
   "metadata": {
    "ExecuteTime": {
     "end_time": "2020-11-27T01:51:30.649074Z",
     "start_time": "2020-11-27T01:51:30.646457Z"
    }
   },
   "outputs": [
    {
     "data": {
      "text/plain": [
       "(15362619,)"
      ]
     },
     "execution_count": 17,
     "metadata": {},
     "output_type": "execute_result"
    }
   ],
   "source": [
    "user_value_counts_users.shape"
   ]
  },
  {
   "cell_type": "code",
   "execution_count": 18,
   "metadata": {
    "ExecuteTime": {
     "end_time": "2020-11-27T01:52:49.446518Z",
     "start_time": "2020-11-27T01:52:49.428789Z"
    }
   },
   "outputs": [
    {
     "data": {
      "text/plain": [
       "(279964,)"
      ]
     },
     "execution_count": 18,
     "metadata": {},
     "output_type": "execute_result"
    }
   ],
   "source": [
    "user_value_counts_users[(user_value_counts_counts>20)].shape"
   ]
  },
  {
   "cell_type": "code",
   "execution_count": 27,
   "metadata": {
    "ExecuteTime": {
     "end_time": "2020-11-27T01:59:08.925534Z",
     "start_time": "2020-11-27T01:59:08.898192Z"
    }
   },
   "outputs": [],
   "source": [
    "temp = user_value_counts_counts[(user_value_counts_counts<1000) & (user_value_counts_counts>=20)]"
   ]
  },
  {
   "cell_type": "code",
   "execution_count": 28,
   "metadata": {
    "ExecuteTime": {
     "end_time": "2020-11-27T01:59:10.489551Z",
     "start_time": "2020-11-27T01:59:09.390515Z"
    }
   },
   "outputs": [
    {
     "data": {
      "text/plain": [
       "(array([2.1603e+04, 1.9155e+04, 1.7396e+04, 1.5242e+04, 1.3951e+04,\n",
       "        1.2580e+04, 1.1607e+04, 1.0344e+04, 9.5010e+03, 8.7630e+03,\n",
       "        8.0220e+03, 7.2510e+03, 6.8100e+03, 6.2710e+03, 5.8130e+03,\n",
       "        5.4400e+03, 5.0620e+03, 4.7170e+03, 4.5620e+03, 4.1860e+03,\n",
       "        3.8960e+03, 3.6910e+03, 3.4130e+03, 3.1170e+03, 3.0100e+03,\n",
       "        2.9440e+03, 2.7530e+03, 2.6180e+03, 2.3400e+03, 2.2870e+03,\n",
       "        2.1880e+03, 2.0490e+03, 1.9770e+03, 1.8730e+03, 1.8490e+03,\n",
       "        1.6950e+03, 1.6810e+03, 1.5290e+03, 1.4850e+03, 1.4770e+03,\n",
       "        1.3380e+03, 1.3170e+03, 1.2620e+03, 1.2350e+03, 1.1260e+03,\n",
       "        0.0000e+00, 1.1680e+03, 1.1200e+03, 1.0480e+03, 1.0140e+03,\n",
       "        9.7600e+02, 9.1700e+02, 8.9100e+02, 8.3000e+02, 7.9900e+02,\n",
       "        7.9700e+02, 6.9900e+02, 7.6200e+02, 7.1300e+02, 7.0200e+02,\n",
       "        7.0400e+02, 6.9000e+02, 6.4600e+02, 6.1100e+02, 6.2000e+02,\n",
       "        5.9300e+02, 5.3600e+02, 5.5300e+02, 5.9000e+02, 5.0900e+02,\n",
       "        5.2500e+02, 5.0200e+02, 4.6000e+02, 4.6100e+02, 4.5000e+02,\n",
       "        3.7300e+02, 4.7700e+02, 4.2000e+02, 4.1100e+02, 3.6600e+02,\n",
       "        4.0000e+02, 3.6600e+02, 3.4500e+02, 3.7900e+02, 3.8800e+02,\n",
       "        3.5900e+02, 3.5600e+02, 3.4000e+02, 3.0500e+02, 3.3400e+02,\n",
       "        0.0000e+00, 2.7100e+02, 3.1100e+02, 2.7400e+02, 2.8900e+02,\n",
       "        2.8700e+02, 2.5300e+02, 2.5800e+02, 2.6300e+02, 2.4500e+02,\n",
       "        2.5000e+02, 2.7600e+02, 2.5800e+02, 2.2500e+02, 2.2300e+02,\n",
       "        2.1700e+02, 2.2200e+02, 2.4400e+02, 2.2400e+02, 2.2200e+02,\n",
       "        2.0000e+02, 2.1200e+02, 2.1400e+02, 1.7900e+02, 1.8800e+02,\n",
       "        2.0400e+02, 1.8700e+02, 1.9900e+02, 1.7700e+02, 1.8500e+02,\n",
       "        1.7000e+02, 1.6100e+02, 1.6200e+02, 1.5800e+02, 1.6600e+02,\n",
       "        1.7800e+02, 1.6900e+02, 1.7400e+02, 1.5700e+02, 1.6500e+02,\n",
       "        1.5400e+02, 1.4100e+02, 1.4300e+02, 1.4900e+02, 1.4000e+02,\n",
       "        1.2700e+02, 0.0000e+00, 1.2300e+02, 1.1500e+02, 1.3400e+02,\n",
       "        1.1800e+02, 1.1700e+02, 1.2100e+02, 1.1000e+02, 1.0400e+02,\n",
       "        1.1500e+02, 1.1500e+02, 1.1100e+02, 1.0800e+02, 1.1200e+02,\n",
       "        1.2000e+02, 1.0900e+02, 1.0800e+02, 9.5000e+01, 1.1200e+02,\n",
       "        9.1000e+01, 1.1000e+02, 9.9000e+01, 9.5000e+01, 8.7000e+01,\n",
       "        8.5000e+01, 1.0400e+02, 7.6000e+01, 9.6000e+01, 7.4000e+01,\n",
       "        9.7000e+01, 9.9000e+01, 1.0100e+02, 8.6000e+01, 7.8000e+01,\n",
       "        8.3000e+01, 7.0000e+01, 7.9000e+01, 6.6000e+01, 8.9000e+01,\n",
       "        7.0000e+01, 8.3000e+01, 7.3000e+01, 8.5000e+01, 7.1000e+01,\n",
       "        6.6000e+01, 0.0000e+00, 6.9000e+01, 7.5000e+01, 7.6000e+01,\n",
       "        6.2000e+01, 6.5000e+01, 4.9000e+01, 7.3000e+01, 7.2000e+01,\n",
       "        7.5000e+01, 7.8000e+01, 6.6000e+01, 6.2000e+01, 5.8000e+01,\n",
       "        6.1000e+01, 6.3000e+01, 6.0000e+01, 6.6000e+01, 6.6000e+01,\n",
       "        6.0000e+01, 6.6000e+01, 4.7000e+01, 4.9000e+01, 5.3000e+01,\n",
       "        5.6000e+01, 5.8000e+01, 6.0000e+01, 5.1000e+01, 5.6000e+01,\n",
       "        4.9000e+01, 6.0000e+01, 4.2000e+01, 4.8000e+01, 5.0000e+01,\n",
       "        5.0000e+01, 5.3000e+01, 5.0000e+01, 6.1000e+01, 4.3000e+01,\n",
       "        4.4000e+01, 4.3000e+01, 5.1000e+01, 4.7000e+01, 4.2000e+01,\n",
       "        3.4000e+01, 4.4000e+01, 0.0000e+00, 6.0000e+01, 3.4000e+01,\n",
       "        4.7000e+01, 5.2000e+01, 4.7000e+01, 4.3000e+01, 3.6000e+01,\n",
       "        4.2000e+01, 4.4000e+01, 3.5000e+01, 4.5000e+01, 4.2000e+01,\n",
       "        4.1000e+01, 3.5000e+01, 4.2000e+01, 4.0000e+01, 4.6000e+01,\n",
       "        3.7000e+01, 3.6000e+01, 3.7000e+01, 3.1000e+01, 4.2000e+01,\n",
       "        3.4000e+01, 4.6000e+01, 4.7000e+01, 3.5000e+01, 2.7000e+01,\n",
       "        3.4000e+01, 4.6000e+01, 2.7000e+01, 4.1000e+01, 3.5000e+01,\n",
       "        2.5000e+01, 2.6000e+01, 3.0000e+01, 2.5000e+01, 2.7000e+01,\n",
       "        3.0000e+01, 2.3000e+01, 2.9000e+01, 3.1000e+01, 2.5000e+01,\n",
       "        2.4000e+01, 2.9000e+01, 0.0000e+00, 3.5000e+01, 3.4000e+01,\n",
       "        3.5000e+01, 2.2000e+01, 2.3000e+01, 2.7000e+01, 3.5000e+01,\n",
       "        3.6000e+01, 2.3000e+01, 2.1000e+01, 2.1000e+01, 2.2000e+01,\n",
       "        2.2000e+01, 3.0000e+01, 3.0000e+01, 2.4000e+01, 2.5000e+01,\n",
       "        2.8000e+01, 2.3000e+01, 2.5000e+01, 3.4000e+01, 3.1000e+01,\n",
       "        3.2000e+01, 1.7000e+01, 2.2000e+01, 2.1000e+01, 1.2000e+01,\n",
       "        1.9000e+01, 2.0000e+01, 2.4000e+01, 3.0000e+01, 2.8000e+01,\n",
       "        2.3000e+01, 2.9000e+01, 2.4000e+01, 2.8000e+01, 1.4000e+01,\n",
       "        2.2000e+01, 1.7000e+01, 1.5000e+01, 2.3000e+01, 1.6000e+01,\n",
       "        2.6000e+01, 1.7000e+01, 2.7000e+01, 0.0000e+00, 2.0000e+01,\n",
       "        1.6000e+01, 2.9000e+01, 2.0000e+01, 1.8000e+01, 2.3000e+01,\n",
       "        1.9000e+01, 2.0000e+01, 2.0000e+01, 1.2000e+01, 1.7000e+01,\n",
       "        1.5000e+01, 1.9000e+01, 1.4000e+01, 1.3000e+01, 1.8000e+01,\n",
       "        1.5000e+01, 1.8000e+01, 1.8000e+01, 2.7000e+01, 1.8000e+01,\n",
       "        1.2000e+01, 2.3000e+01, 2.0000e+01, 1.5000e+01, 1.8000e+01,\n",
       "        1.4000e+01, 1.1000e+01, 1.4000e+01, 1.9000e+01, 2.2000e+01,\n",
       "        1.8000e+01, 1.2000e+01, 1.9000e+01, 2.1000e+01, 1.4000e+01,\n",
       "        1.9000e+01, 2.5000e+01, 1.8000e+01, 1.7000e+01, 2.0000e+01,\n",
       "        1.8000e+01, 1.9000e+01, 1.1000e+01, 0.0000e+00, 1.5000e+01,\n",
       "        2.3000e+01, 1.6000e+01, 1.6000e+01, 1.8000e+01, 2.0000e+01,\n",
       "        9.0000e+00, 1.5000e+01, 1.8000e+01, 1.8000e+01, 5.0000e+00,\n",
       "        1.8000e+01, 1.3000e+01, 1.4000e+01, 1.2000e+01, 2.0000e+01,\n",
       "        1.7000e+01, 1.4000e+01, 8.0000e+00, 1.2000e+01, 1.2000e+01,\n",
       "        1.9000e+01, 1.8000e+01, 9.0000e+00, 1.5000e+01, 1.3000e+01,\n",
       "        7.0000e+00, 1.2000e+01, 1.5000e+01, 1.1000e+01, 1.3000e+01,\n",
       "        1.8000e+01, 1.5000e+01, 9.0000e+00, 8.0000e+00, 1.2000e+01,\n",
       "        1.4000e+01, 1.6000e+01, 1.2000e+01, 4.0000e+00, 7.0000e+00,\n",
       "        9.0000e+00, 1.1000e+01, 8.0000e+00, 1.7000e+01, 0.0000e+00,\n",
       "        1.5000e+01, 1.0000e+01, 6.0000e+00, 1.1000e+01, 1.0000e+01,\n",
       "        6.0000e+00, 1.2000e+01, 8.0000e+00, 9.0000e+00, 8.0000e+00,\n",
       "        8.0000e+00, 1.3000e+01, 1.2000e+01, 5.0000e+00, 1.3000e+01,\n",
       "        7.0000e+00, 7.0000e+00, 9.0000e+00, 7.0000e+00, 6.0000e+00,\n",
       "        1.2000e+01, 1.0000e+01, 9.0000e+00, 8.0000e+00, 8.0000e+00,\n",
       "        7.0000e+00, 8.0000e+00, 1.2000e+01, 1.0000e+01, 1.5000e+01,\n",
       "        6.0000e+00, 1.1000e+01, 9.0000e+00, 4.0000e+00, 1.0000e+01,\n",
       "        6.0000e+00, 6.0000e+00, 1.6000e+01, 8.0000e+00, 1.6000e+01,\n",
       "        6.0000e+00, 6.0000e+00, 1.1000e+01, 1.0000e+01, 0.0000e+00,\n",
       "        6.0000e+00, 6.0000e+00, 8.0000e+00, 1.3000e+01, 8.0000e+00,\n",
       "        4.0000e+00, 5.0000e+00, 9.0000e+00, 8.0000e+00, 6.0000e+00,\n",
       "        1.1000e+01, 9.0000e+00, 1.2000e+01, 6.0000e+00, 9.0000e+00,\n",
       "        9.0000e+00, 1.0000e+01, 3.0000e+00, 9.0000e+00, 8.0000e+00,\n",
       "        5.0000e+00, 4.0000e+00, 4.0000e+00, 4.0000e+00, 8.0000e+00,\n",
       "        6.0000e+00, 6.0000e+00, 1.0000e+01, 9.0000e+00, 6.0000e+00,\n",
       "        8.0000e+00, 1.3000e+01, 8.0000e+00, 6.0000e+00, 5.0000e+00,\n",
       "        7.0000e+00, 7.0000e+00, 1.0000e+01, 9.0000e+00, 4.0000e+00,\n",
       "        8.0000e+00, 5.0000e+00, 6.0000e+00, 5.0000e+00, 0.0000e+00,\n",
       "        5.0000e+00, 3.0000e+00, 7.0000e+00, 4.0000e+00, 3.0000e+00,\n",
       "        6.0000e+00, 7.0000e+00, 3.0000e+00, 7.0000e+00, 8.0000e+00,\n",
       "        9.0000e+00, 5.0000e+00, 3.0000e+00, 6.0000e+00, 5.0000e+00,\n",
       "        3.0000e+00, 1.1000e+01, 1.4000e+01, 7.0000e+00, 4.0000e+00,\n",
       "        6.0000e+00, 4.0000e+00, 9.0000e+00, 8.0000e+00, 1.2000e+01,\n",
       "        5.0000e+00, 5.0000e+00, 5.0000e+00, 7.0000e+00, 3.0000e+00,\n",
       "        5.0000e+00, 6.0000e+00, 7.0000e+00, 4.0000e+00, 9.0000e+00,\n",
       "        5.0000e+00, 4.0000e+00, 3.0000e+00, 6.0000e+00, 6.0000e+00,\n",
       "        7.0000e+00, 3.0000e+00, 3.0000e+00, 5.0000e+00, 5.0000e+00,\n",
       "        0.0000e+00, 9.0000e+00, 4.0000e+00, 1.0000e+01, 4.0000e+00,\n",
       "        2.0000e+00, 7.0000e+00, 4.0000e+00, 5.0000e+00, 4.0000e+00,\n",
       "        6.0000e+00, 4.0000e+00, 5.0000e+00, 3.0000e+00, 6.0000e+00,\n",
       "        8.0000e+00, 2.0000e+00, 3.0000e+00, 7.0000e+00, 4.0000e+00,\n",
       "        1.0000e+01, 8.0000e+00, 3.0000e+00, 3.0000e+00, 3.0000e+00,\n",
       "        5.0000e+00, 7.0000e+00, 4.0000e+00, 2.0000e+00, 5.0000e+00,\n",
       "        4.0000e+00, 8.0000e+00, 6.0000e+00, 9.0000e+00, 9.0000e+00,\n",
       "        5.0000e+00, 4.0000e+00, 3.0000e+00, 2.0000e+00, 6.0000e+00,\n",
       "        5.0000e+00, 4.0000e+00, 3.0000e+00, 3.0000e+00, 5.0000e+00,\n",
       "        0.0000e+00, 4.0000e+00, 3.0000e+00, 1.1000e+01, 2.0000e+00,\n",
       "        1.0000e+00, 2.0000e+00, 4.0000e+00, 2.0000e+00, 5.0000e+00,\n",
       "        3.0000e+00, 3.0000e+00, 3.0000e+00, 3.0000e+00, 6.0000e+00,\n",
       "        5.0000e+00, 5.0000e+00, 1.0000e+00, 4.0000e+00, 5.0000e+00,\n",
       "        4.0000e+00, 2.0000e+00, 1.0000e+00, 4.0000e+00, 3.0000e+00,\n",
       "        3.0000e+00, 1.0000e+00, 5.0000e+00, 3.0000e+00, 2.0000e+00,\n",
       "        4.0000e+00, 5.0000e+00, 5.0000e+00, 4.0000e+00, 7.0000e+00,\n",
       "        2.0000e+00, 3.0000e+00, 1.0000e+00, 4.0000e+00, 7.0000e+00,\n",
       "        3.0000e+00, 6.0000e+00, 3.0000e+00, 3.0000e+00, 7.0000e+00,\n",
       "        5.0000e+00, 0.0000e+00, 2.0000e+00, 0.0000e+00, 4.0000e+00,\n",
       "        4.0000e+00, 9.0000e+00, 2.0000e+00, 4.0000e+00, 1.0000e+00,\n",
       "        5.0000e+00, 9.0000e+00, 2.0000e+00, 3.0000e+00, 2.0000e+00,\n",
       "        3.0000e+00, 4.0000e+00, 4.0000e+00, 4.0000e+00, 2.0000e+00,\n",
       "        3.0000e+00, 1.0000e+00, 2.0000e+00, 5.0000e+00, 4.0000e+00,\n",
       "        7.0000e+00, 5.0000e+00, 1.0000e+00, 3.0000e+00, 1.0000e+00,\n",
       "        3.0000e+00, 8.0000e+00, 7.0000e+00, 3.0000e+00, 2.0000e+00,\n",
       "        4.0000e+00, 3.0000e+00, 2.0000e+00, 2.0000e+00, 4.0000e+00,\n",
       "        4.0000e+00, 2.0000e+00, 3.0000e+00, 2.0000e+00, 2.0000e+00,\n",
       "        5.0000e+00, 0.0000e+00, 0.0000e+00, 0.0000e+00, 2.0000e+00,\n",
       "        1.0000e+00, 6.0000e+00, 1.0000e+00, 1.0000e+00, 5.0000e+00,\n",
       "        3.0000e+00, 2.0000e+00, 1.0000e+00, 2.0000e+00, 3.0000e+00,\n",
       "        2.0000e+00, 1.0000e+00, 2.0000e+00, 2.0000e+00, 1.0000e+00,\n",
       "        2.0000e+00, 0.0000e+00, 2.0000e+00, 3.0000e+00, 3.0000e+00,\n",
       "        3.0000e+00, 1.0000e+00, 3.0000e+00, 4.0000e+00, 4.0000e+00,\n",
       "        2.0000e+00, 4.0000e+00, 2.0000e+00, 4.0000e+00, 1.0000e+00,\n",
       "        4.0000e+00, 3.0000e+00, 2.0000e+00, 3.0000e+00, 2.0000e+00,\n",
       "        5.0000e+00, 2.0000e+00, 1.0000e+00, 1.0000e+00, 2.0000e+00,\n",
       "        4.0000e+00, 2.0000e+00, 0.0000e+00, 0.0000e+00, 0.0000e+00,\n",
       "        1.0000e+00, 0.0000e+00, 2.0000e+00, 2.0000e+00, 2.0000e+00,\n",
       "        1.0000e+00, 1.0000e+00, 5.0000e+00, 3.0000e+00, 2.0000e+00,\n",
       "        3.0000e+00, 2.0000e+00, 4.0000e+00, 1.0000e+00, 0.0000e+00,\n",
       "        4.0000e+00, 1.0000e+00, 3.0000e+00, 0.0000e+00, 5.0000e+00,\n",
       "        0.0000e+00, 0.0000e+00, 3.0000e+00, 4.0000e+00, 1.0000e+00,\n",
       "        4.0000e+00, 0.0000e+00, 2.0000e+00, 2.0000e+00, 2.0000e+00,\n",
       "        2.0000e+00, 1.0000e+00, 2.0000e+00, 2.0000e+00, 2.0000e+00,\n",
       "        4.0000e+00, 1.0000e+00, 4.0000e+00, 5.0000e+00, 2.0000e+00,\n",
       "        5.0000e+00, 4.0000e+00, 0.0000e+00, 1.0000e+00, 2.0000e+00,\n",
       "        4.0000e+00, 4.0000e+00, 4.0000e+00, 1.0000e+00, 4.0000e+00,\n",
       "        2.0000e+00, 3.0000e+00, 1.0000e+00, 3.0000e+00, 2.0000e+00,\n",
       "        3.0000e+00, 0.0000e+00, 2.0000e+00, 2.0000e+00, 2.0000e+00,\n",
       "        0.0000e+00, 2.0000e+00, 2.0000e+00, 1.0000e+00, 2.0000e+00,\n",
       "        1.0000e+00, 3.0000e+00, 0.0000e+00, 1.0000e+00, 3.0000e+00,\n",
       "        1.0000e+00, 2.0000e+00, 2.0000e+00, 4.0000e+00, 2.0000e+00,\n",
       "        0.0000e+00, 3.0000e+00, 2.0000e+00, 2.0000e+00, 2.0000e+00,\n",
       "        0.0000e+00, 2.0000e+00, 3.0000e+00, 3.0000e+00, 0.0000e+00,\n",
       "        2.0000e+00, 1.0000e+00, 3.0000e+00, 0.0000e+00, 0.0000e+00,\n",
       "        0.0000e+00, 1.0000e+00, 1.0000e+00, 2.0000e+00, 1.0000e+00,\n",
       "        4.0000e+00, 0.0000e+00, 0.0000e+00, 3.0000e+00, 0.0000e+00,\n",
       "        1.0000e+00, 1.0000e+00, 4.0000e+00, 6.0000e+00, 0.0000e+00,\n",
       "        1.0000e+00, 2.0000e+00, 1.0000e+00, 2.0000e+00, 1.0000e+00,\n",
       "        3.0000e+00, 1.0000e+00, 2.0000e+00, 2.0000e+00, 3.0000e+00,\n",
       "        4.0000e+00, 2.0000e+00, 2.0000e+00, 3.0000e+00, 3.0000e+00,\n",
       "        3.0000e+00, 1.0000e+00, 0.0000e+00, 1.0000e+00, 4.0000e+00,\n",
       "        1.0000e+00, 1.0000e+00, 6.0000e+00, 3.0000e+00, 2.0000e+00,\n",
       "        0.0000e+00, 1.0000e+00, 1.0000e+00, 0.0000e+00, 0.0000e+00,\n",
       "        1.0000e+00, 2.0000e+00, 2.0000e+00, 3.0000e+00, 1.0000e+00,\n",
       "        2.0000e+00, 4.0000e+00, 2.0000e+00, 4.0000e+00, 1.0000e+00,\n",
       "        5.0000e+00, 5.0000e+00, 1.0000e+00, 1.0000e+00, 1.0000e+00,\n",
       "        3.0000e+00, 2.0000e+00, 0.0000e+00, 0.0000e+00, 3.0000e+00,\n",
       "        3.0000e+00, 0.0000e+00, 4.0000e+00, 1.0000e+00, 1.0000e+00,\n",
       "        0.0000e+00, 1.0000e+00, 1.0000e+00, 2.0000e+00, 1.0000e+00,\n",
       "        1.0000e+00, 2.0000e+00, 0.0000e+00, 1.0000e+00, 0.0000e+00,\n",
       "        0.0000e+00, 1.0000e+00, 0.0000e+00, 1.0000e+00, 3.0000e+00,\n",
       "        2.0000e+00, 0.0000e+00, 1.0000e+00, 0.0000e+00, 0.0000e+00,\n",
       "        1.0000e+00, 0.0000e+00, 0.0000e+00, 1.0000e+00, 2.0000e+00,\n",
       "        1.0000e+00, 1.0000e+00, 0.0000e+00, 1.0000e+00, 1.0000e+00,\n",
       "        1.0000e+00, 0.0000e+00, 0.0000e+00, 2.0000e+00, 0.0000e+00,\n",
       "        0.0000e+00, 0.0000e+00, 2.0000e+00, 0.0000e+00, 2.0000e+00,\n",
       "        1.0000e+00, 1.0000e+00, 2.0000e+00, 0.0000e+00, 1.0000e+00,\n",
       "        2.0000e+00, 4.0000e+00, 0.0000e+00, 2.0000e+00, 1.0000e+00,\n",
       "        0.0000e+00, 2.0000e+00, 1.0000e+00, 0.0000e+00, 1.0000e+00,\n",
       "        2.0000e+00, 0.0000e+00, 0.0000e+00, 1.0000e+00, 0.0000e+00,\n",
       "        2.0000e+00, 1.0000e+00, 2.0000e+00, 0.0000e+00, 0.0000e+00,\n",
       "        0.0000e+00, 0.0000e+00, 0.0000e+00, 0.0000e+00, 4.0000e+00,\n",
       "        1.0000e+00, 1.0000e+00, 1.0000e+00, 2.0000e+00, 1.0000e+00,\n",
       "        0.0000e+00, 3.0000e+00, 3.0000e+00, 0.0000e+00, 1.0000e+00,\n",
       "        3.0000e+00, 3.0000e+00, 0.0000e+00, 1.0000e+00, 2.0000e+00,\n",
       "        2.0000e+00, 1.0000e+00, 2.0000e+00, 0.0000e+00, 3.0000e+00,\n",
       "        1.0000e+00, 3.0000e+00, 1.0000e+00, 1.0000e+00, 2.0000e+00,\n",
       "        0.0000e+00, 2.0000e+00, 1.0000e+00, 0.0000e+00, 0.0000e+00,\n",
       "        1.0000e+00, 1.0000e+00, 1.0000e+00, 1.0000e+00, 2.0000e+00,\n",
       "        0.0000e+00, 1.0000e+00, 2.0000e+00, 0.0000e+00, 3.0000e+00]),\n",
       " array([ 20.   ,  20.978,  21.956, ..., 996.044, 997.022, 998.   ]),\n",
       " <a list of 1000 Patch objects>)"
      ]
     },
     "execution_count": 28,
     "metadata": {},
     "output_type": "execute_result"
    },
    {
     "data": {
      "image/png": "[encoded data removed]",
      "text/plain": [
       "<Figure size 432x288 with 1 Axes>"
      ]
     },
     "metadata": {},
     "output_type": "display_data"
    }
   ],
   "source": [
    "plt.figure(facecolor='w')\n",
    "plt.hist(temp, bins=1000)"
   ]
  },
  {
   "cell_type": "code",
   "execution_count": 29,
   "metadata": {
    "ExecuteTime": {
     "end_time": "2020-11-27T01:59:42.237538Z",
     "start_time": "2020-11-27T01:59:42.210861Z"
    }
   },
   "outputs": [],
   "source": [
    "temp = user_value_counts_counts[(user_value_counts_counts<100) & (user_value_counts_counts>=20)]"
   ]
  },
  {
   "cell_type": "code",
   "execution_count": 30,
   "metadata": {
    "ExecuteTime": {
     "end_time": "2020-11-27T01:59:42.746263Z",
     "start_time": "2020-11-27T01:59:42.544407Z"
    }
   },
   "outputs": [
    {
     "data": {
      "text/plain": [
       "(array([21603., 19155., 17396., 15242.,     0., 13951., 12580., 11607.,\n",
       "        10344.,     0.,  9501.,  8763.,  8022.,  7251.,     0.,  6810.,\n",
       "         6271.,  5813.,  5440.,     0.,  5062.,  4717.,  4562.,     0.,\n",
       "         4186.,  3896.,  3691.,  3413.,     0.,  3117.,  3010.,  2944.,\n",
       "         2753.,     0.,  2618.,  2340.,  2287.,  2188.,     0.,  2049.,\n",
       "         1977.,  1873.,     0.,  1849.,  1695.,  1681.,  1529.,     0.,\n",
       "         1485.,  1477.,  1338.,  1317.,     0.,  1262.,  1235.,  1126.,\n",
       "         1168.,     0.,  1120.,  1048.,  1014.,     0.,   976.,   917.,\n",
       "          891.,   830.,     0.,   799.,   797.,   699.,   762.,     0.,\n",
       "          713.,   702.,   704.,   690.,     0.,   646.,   611.,   620.,\n",
       "            0.,   593.,   536.,   553.,   590.,     0.,   509.,   525.,\n",
       "          502.,   460.,     0.,   461.,   450.,   373.,   477.,     0.,\n",
       "          420.,   411.,   366.,   400.]),\n",
       " array([20.  , 20.79, 21.58, 22.37, 23.16, 23.95, 24.74, 25.53, 26.32,\n",
       "        27.11, 27.9 , 28.69, 29.48, 30.27, 31.06, 31.85, 32.64, 33.43,\n",
       "        34.22, 35.01, 35.8 , 36.59, 37.38, 38.17, 38.96, 39.75, 40.54,\n",
       "        41.33, 42.12, 42.91, 43.7 , 44.49, 45.28, 46.07, 46.86, 47.65,\n",
       "        48.44, 49.23, 50.02, 50.81, 51.6 , 52.39, 53.18, 53.97, 54.76,\n",
       "        55.55, 56.34, 57.13, 57.92, 58.71, 59.5 , 60.29, 61.08, 61.87,\n",
       "        62.66, 63.45, 64.24, 65.03, 65.82, 66.61, 67.4 , 68.19, 68.98,\n",
       "        69.77, 70.56, 71.35, 72.14, 72.93, 73.72, 74.51, 75.3 , 76.09,\n",
       "        76.88, 77.67, 78.46, 79.25, 80.04, 80.83, 81.62, 82.41, 83.2 ,\n",
       "        83.99, 84.78, 85.57, 86.36, 87.15, 87.94, 88.73, 89.52, 90.31,\n",
       "        91.1 , 91.89, 92.68, 93.47, 94.26, 95.05, 95.84, 96.63, 97.42,\n",
       "        98.21, 99.  ]),\n",
       " <a list of 100 Patch objects>)"
      ]
     },
     "execution_count": 30,
     "metadata": {},
     "output_type": "execute_result"
    },
    {
     "data": {
      "image/png": "[encoded data removed]",
      "text/plain": [
       "<Figure size 432x288 with 1 Axes>"
      ]
     },
     "metadata": {},
     "output_type": "display_data"
    }
   ],
   "source": [
    "plt.figure(facecolor='w')\n",
    "plt.hist(temp, bins=100)"
   ]
  },
  {
   "cell_type": "markdown",
   "metadata": {},
   "source": [
    "### rating 개수에 따른 item의 분포"
   ]
  },
  {
   "cell_type": "code",
   "execution_count": 32,
   "metadata": {
    "ExecuteTime": {
     "end_time": "2020-11-27T02:02:33.054436Z",
     "start_time": "2020-11-27T02:02:32.023263Z"
    }
   },
   "outputs": [
    {
     "name": "stdout",
     "output_type": "stream",
     "text": [
      "288015     58150\n",
      "168974     44956\n",
      "5794       44381\n",
      "100968     37783\n",
      "205270     36620\n",
      "           ...  \n",
      "2890148        1\n",
      "1073306        1\n",
      "2701241        1\n",
      "1138874        1\n",
      "2527543        1\n",
      "Name: item, Length: 2930451, dtype: int64\n"
     ]
    }
   ],
   "source": [
    "item_value_counts = pure_data['item'].value_counts()\n",
    "print(item_value_counts)"
   ]
  },
  {
   "cell_type": "code",
   "execution_count": 33,
   "metadata": {
    "ExecuteTime": {
     "end_time": "2020-11-27T02:03:12.715174Z",
     "start_time": "2020-11-27T02:03:12.713479Z"
    }
   },
   "outputs": [],
   "source": [
    "item_value_counts_items = item_value_counts.keys().to_numpy()\n",
    "item_value_counts_counts = item_value_counts.to_numpy()"
   ]
  },
  {
   "cell_type": "code",
   "execution_count": 34,
   "metadata": {
    "ExecuteTime": {
     "end_time": "2020-11-27T02:03:41.701221Z",
     "start_time": "2020-11-27T02:03:41.698934Z"
    }
   },
   "outputs": [
    {
     "name": "stdout",
     "output_type": "stream",
     "text": [
      "Average counts of items per user:  0.1907520455984751\n"
     ]
    }
   ],
   "source": [
    "print(\"Average counts of items per user: \", len(item_value_counts_counts) / len(user_value_counts_counts))"
   ]
  },
  {
   "cell_type": "code",
   "execution_count": 36,
   "metadata": {
    "ExecuteTime": {
     "end_time": "2020-11-27T02:04:04.320449Z",
     "start_time": "2020-11-27T02:04:04.316093Z"
    }
   },
   "outputs": [
    {
     "data": {
      "text/plain": [
       "(2930451,)"
      ]
     },
     "execution_count": 36,
     "metadata": {},
     "output_type": "execute_result"
    }
   ],
   "source": [
    "item_value_counts_items.shape"
   ]
  },
  {
   "cell_type": "code",
   "execution_count": 45,
   "metadata": {
    "ExecuteTime": {
     "end_time": "2020-11-27T02:09:33.328423Z",
     "start_time": "2020-11-27T02:09:32.213205Z"
    }
   },
   "outputs": [
    {
     "data": {
      "text/plain": [
       "(array([1.4861e+04, 1.3869e+04, 1.2957e+04, 1.1854e+04, 1.1185e+04,\n",
       "        1.0293e+04, 9.8440e+03, 9.1190e+03, 8.6860e+03, 8.3330e+03,\n",
       "        8.0360e+03, 7.4820e+03, 7.0970e+03, 6.5740e+03, 6.1350e+03,\n",
       "        6.0010e+03, 5.7070e+03, 5.4450e+03, 5.1860e+03, 4.9210e+03,\n",
       "        4.7430e+03, 4.5450e+03, 4.2800e+03, 4.2680e+03, 4.0250e+03,\n",
       "        3.7320e+03, 3.6980e+03, 3.6430e+03, 3.4850e+03, 3.2180e+03,\n",
       "        3.0880e+03, 3.1580e+03, 3.1010e+03, 2.8520e+03, 2.8900e+03,\n",
       "        2.7500e+03, 2.6610e+03, 2.4910e+03, 2.5390e+03, 2.3060e+03,\n",
       "        2.3020e+03, 2.2370e+03, 2.0900e+03, 2.1200e+03, 1.9850e+03,\n",
       "        0.0000e+00, 2.0090e+03, 1.9670e+03, 1.8800e+03, 1.8020e+03,\n",
       "        1.8070e+03, 1.7590e+03, 1.6730e+03, 1.6230e+03, 1.5450e+03,\n",
       "        1.5620e+03, 1.5480e+03, 1.5470e+03, 1.4570e+03, 1.4390e+03,\n",
       "        1.3930e+03, 1.3580e+03, 1.3190e+03, 1.2820e+03, 1.3010e+03,\n",
       "        1.2320e+03, 1.2370e+03, 1.1780e+03, 1.1670e+03, 1.1020e+03,\n",
       "        1.1270e+03, 1.0510e+03, 1.0640e+03, 9.9000e+02, 1.0000e+03,\n",
       "        9.7000e+02, 9.3700e+02, 9.5000e+02, 9.9600e+02, 8.5200e+02,\n",
       "        8.8000e+02, 9.2700e+02, 8.9200e+02, 8.7000e+02, 8.0900e+02,\n",
       "        8.0100e+02, 8.2500e+02, 7.7500e+02, 7.8100e+02, 7.4100e+02,\n",
       "        0.0000e+00, 7.8300e+02, 7.6500e+02, 7.3000e+02, 7.1700e+02,\n",
       "        6.7900e+02, 7.4700e+02, 6.9200e+02, 7.2700e+02, 6.8000e+02,\n",
       "        6.2500e+02, 6.6800e+02, 5.9800e+02, 6.4100e+02, 6.2300e+02,\n",
       "        6.2400e+02, 5.8300e+02, 5.7200e+02, 5.6800e+02, 5.7100e+02,\n",
       "        5.5400e+02, 5.4700e+02, 5.5900e+02, 5.7500e+02, 5.1200e+02,\n",
       "        5.0200e+02, 5.2000e+02, 5.2000e+02, 4.8000e+02, 5.0500e+02,\n",
       "        4.7200e+02, 4.7600e+02, 4.5000e+02, 4.6200e+02, 4.3900e+02,\n",
       "        4.1400e+02, 4.4600e+02, 4.1200e+02, 4.3200e+02, 3.7200e+02,\n",
       "        4.0800e+02, 3.9800e+02, 3.9800e+02, 4.2100e+02, 3.9300e+02,\n",
       "        3.7000e+02, 0.0000e+00, 3.9800e+02, 3.7200e+02, 3.8900e+02,\n",
       "        3.5800e+02, 3.2400e+02, 3.2000e+02, 3.6500e+02, 3.5400e+02,\n",
       "        3.5900e+02, 3.3000e+02, 3.3800e+02, 3.3500e+02, 3.2400e+02,\n",
       "        3.0500e+02, 3.3900e+02, 3.5500e+02, 2.9600e+02, 3.1900e+02,\n",
       "        2.8300e+02, 3.0900e+02, 3.0000e+02, 2.9000e+02, 2.9000e+02,\n",
       "        3.0600e+02, 2.6700e+02, 2.9100e+02, 2.8900e+02, 2.9600e+02,\n",
       "        2.7600e+02, 2.6800e+02, 2.6100e+02, 2.6400e+02, 2.4900e+02,\n",
       "        2.4900e+02, 2.3800e+02, 2.4300e+02, 2.6800e+02, 2.3300e+02,\n",
       "        2.5700e+02, 2.3200e+02, 2.3600e+02, 2.5100e+02, 2.2200e+02,\n",
       "        2.4900e+02, 0.0000e+00, 2.3900e+02, 2.2600e+02, 2.2500e+02,\n",
       "        2.3300e+02, 1.9300e+02, 2.3300e+02, 2.1600e+02, 2.0800e+02,\n",
       "        2.1900e+02, 1.8600e+02, 2.0500e+02, 2.2300e+02, 1.9400e+02,\n",
       "        2.1500e+02, 2.1100e+02, 1.9600e+02, 1.7700e+02, 1.9400e+02,\n",
       "        2.0500e+02, 1.7700e+02, 2.0100e+02, 1.8500e+02, 1.8200e+02,\n",
       "        1.7900e+02, 1.7300e+02, 1.9800e+02, 1.5500e+02, 1.5600e+02,\n",
       "        1.6200e+02, 1.9400e+02, 1.8500e+02, 1.6300e+02, 1.9300e+02,\n",
       "        1.5300e+02, 1.7300e+02, 1.8100e+02, 1.7300e+02, 1.7300e+02,\n",
       "        1.5500e+02, 1.5600e+02, 1.6800e+02, 1.6200e+02, 1.4100e+02,\n",
       "        1.7500e+02, 1.2000e+02, 0.0000e+00, 1.2900e+02, 1.3300e+02,\n",
       "        1.4400e+02, 1.3800e+02, 1.3300e+02, 1.3600e+02, 1.4000e+02,\n",
       "        1.3000e+02, 1.4600e+02, 1.3300e+02, 1.5200e+02, 1.4300e+02,\n",
       "        1.4600e+02, 1.3800e+02, 1.2100e+02, 1.4000e+02, 1.3000e+02,\n",
       "        1.1900e+02, 1.0400e+02, 1.2600e+02, 1.3800e+02, 1.3000e+02,\n",
       "        1.2200e+02, 1.1400e+02, 1.2700e+02, 1.2300e+02, 1.2000e+02,\n",
       "        1.2500e+02, 1.2900e+02, 1.0900e+02, 1.1700e+02, 1.1800e+02,\n",
       "        1.1700e+02, 1.2900e+02, 1.0800e+02, 9.2000e+01, 1.0000e+02,\n",
       "        9.1000e+01, 1.2000e+02, 1.0100e+02, 1.1800e+02, 1.2500e+02,\n",
       "        9.6000e+01, 1.2200e+02, 0.0000e+00, 1.0900e+02, 1.1300e+02,\n",
       "        1.0000e+02, 8.6000e+01, 1.0000e+02, 9.5000e+01, 9.8000e+01,\n",
       "        8.9000e+01, 1.0000e+02, 9.7000e+01, 9.6000e+01, 1.0500e+02,\n",
       "        1.1000e+02, 8.6000e+01, 1.0000e+02, 1.0000e+02, 1.0100e+02,\n",
       "        8.9000e+01, 1.0100e+02, 8.2000e+01, 6.6000e+01, 8.7000e+01,\n",
       "        8.2000e+01, 8.3000e+01, 9.0000e+01, 9.2000e+01, 8.6000e+01,\n",
       "        9.0000e+01, 7.5000e+01, 8.6000e+01, 7.6000e+01, 9.8000e+01,\n",
       "        8.1000e+01, 8.1000e+01, 8.5000e+01, 8.9000e+01, 6.6000e+01,\n",
       "        8.4000e+01, 7.0000e+01, 8.9000e+01, 7.4000e+01, 7.6000e+01,\n",
       "        7.8000e+01, 8.7000e+01, 6.5000e+01, 0.0000e+00, 8.6000e+01,\n",
       "        7.4000e+01, 6.1000e+01, 9.2000e+01, 7.7000e+01, 7.3000e+01,\n",
       "        7.2000e+01, 6.6000e+01, 6.8000e+01, 7.1000e+01, 8.0000e+01,\n",
       "        9.4000e+01, 9.6000e+01, 6.6000e+01, 6.8000e+01, 7.6000e+01,\n",
       "        7.5000e+01, 6.5000e+01, 6.1000e+01, 7.0000e+01, 5.2000e+01,\n",
       "        7.8000e+01, 6.8000e+01, 6.8000e+01, 6.1000e+01, 4.8000e+01,\n",
       "        6.3000e+01, 8.1000e+01, 6.0000e+01, 5.6000e+01, 7.4000e+01,\n",
       "        5.4000e+01, 7.0000e+01, 6.2000e+01, 6.1000e+01, 6.0000e+01,\n",
       "        5.1000e+01, 7.7000e+01, 5.7000e+01, 5.4000e+01, 3.9000e+01,\n",
       "        5.0000e+01, 6.1000e+01, 4.0000e+01, 0.0000e+00, 6.3000e+01,\n",
       "        4.8000e+01, 6.7000e+01, 5.6000e+01, 4.8000e+01, 6.3000e+01,\n",
       "        6.0000e+01, 4.7000e+01, 5.9000e+01, 4.4000e+01, 3.6000e+01,\n",
       "        5.7000e+01, 4.7000e+01, 5.9000e+01, 6.4000e+01, 5.3000e+01,\n",
       "        6.4000e+01, 5.1000e+01, 4.2000e+01, 4.6000e+01, 4.6000e+01,\n",
       "        3.6000e+01, 5.4000e+01, 5.9000e+01, 5.6000e+01, 4.0000e+01,\n",
       "        3.6000e+01, 5.8000e+01, 6.2000e+01, 3.6000e+01, 4.6000e+01,\n",
       "        4.2000e+01, 5.8000e+01, 4.2000e+01, 3.9000e+01, 4.9000e+01,\n",
       "        4.7000e+01, 5.9000e+01, 4.2000e+01, 3.8000e+01, 4.8000e+01,\n",
       "        3.9000e+01, 4.0000e+01, 5.3000e+01, 4.3000e+01, 0.0000e+00,\n",
       "        4.9000e+01, 3.7000e+01, 5.1000e+01, 3.4000e+01, 4.8000e+01,\n",
       "        5.7000e+01, 3.6000e+01, 4.1000e+01, 4.9000e+01, 4.5000e+01,\n",
       "        3.5000e+01, 4.4000e+01, 4.5000e+01, 4.9000e+01, 3.4000e+01,\n",
       "        3.2000e+01, 4.6000e+01, 4.2000e+01, 4.6000e+01, 4.4000e+01,\n",
       "        3.8000e+01, 2.9000e+01, 3.9000e+01, 3.8000e+01, 2.7000e+01,\n",
       "        3.7000e+01, 4.5000e+01, 3.6000e+01, 3.8000e+01, 4.6000e+01,\n",
       "        2.9000e+01, 4.3000e+01, 3.1000e+01, 2.4000e+01, 4.7000e+01,\n",
       "        3.5000e+01, 4.4000e+01, 2.5000e+01, 2.7000e+01, 4.0000e+01,\n",
       "        3.5000e+01, 3.5000e+01, 3.7000e+01, 3.2000e+01, 0.0000e+00,\n",
       "        3.5000e+01, 3.8000e+01, 3.1000e+01, 2.8000e+01, 3.6000e+01,\n",
       "        4.3000e+01, 3.7000e+01, 3.6000e+01, 3.5000e+01, 4.4000e+01,\n",
       "        2.4000e+01, 4.3000e+01, 2.8000e+01, 4.1000e+01, 4.0000e+01,\n",
       "        3.0000e+01, 3.2000e+01, 1.9000e+01, 3.2000e+01, 3.1000e+01,\n",
       "        2.4000e+01, 2.8000e+01, 3.0000e+01, 3.7000e+01, 2.4000e+01,\n",
       "        3.5000e+01, 2.9000e+01, 2.6000e+01, 4.1000e+01, 2.8000e+01,\n",
       "        3.5000e+01, 3.4000e+01, 2.5000e+01, 2.5000e+01, 2.8000e+01,\n",
       "        3.0000e+01, 3.1000e+01, 3.4000e+01, 2.2000e+01, 2.9000e+01,\n",
       "        2.4000e+01, 2.2000e+01, 2.9000e+01, 2.0000e+01, 0.0000e+00,\n",
       "        2.7000e+01, 2.3000e+01, 3.7000e+01, 3.2000e+01, 2.6000e+01,\n",
       "        3.1000e+01, 2.3000e+01, 3.0000e+01, 3.0000e+01, 2.8000e+01,\n",
       "        2.2000e+01, 3.5000e+01, 3.6000e+01, 3.1000e+01, 2.2000e+01,\n",
       "        2.3000e+01, 3.2000e+01, 3.7000e+01, 2.0000e+01, 3.2000e+01,\n",
       "        2.4000e+01, 3.1000e+01, 2.3000e+01, 2.2000e+01, 2.2000e+01,\n",
       "        3.1000e+01, 3.2000e+01, 1.5000e+01, 2.1000e+01, 2.4000e+01,\n",
       "        2.3000e+01, 3.3000e+01, 2.5000e+01, 2.7000e+01, 2.5000e+01,\n",
       "        2.4000e+01, 1.6000e+01, 2.1000e+01, 2.2000e+01, 2.3000e+01,\n",
       "        2.2000e+01, 1.9000e+01, 2.1000e+01, 2.9000e+01, 2.4000e+01,\n",
       "        0.0000e+00, 2.9000e+01, 2.1000e+01, 2.2000e+01, 2.3000e+01,\n",
       "        2.7000e+01, 2.6000e+01, 2.8000e+01, 3.0000e+01, 2.6000e+01,\n",
       "        1.8000e+01, 2.8000e+01, 2.5000e+01, 1.4000e+01, 2.0000e+01,\n",
       "        2.0000e+01, 2.5000e+01, 2.1000e+01, 2.6000e+01, 1.8000e+01,\n",
       "        2.4000e+01, 2.1000e+01, 2.5000e+01, 1.9000e+01, 1.9000e+01,\n",
       "        3.0000e+01, 2.5000e+01, 2.2000e+01, 2.3000e+01, 1.1000e+01,\n",
       "        1.1000e+01, 2.4000e+01, 2.6000e+01, 1.6000e+01, 1.2000e+01,\n",
       "        1.5000e+01, 1.4000e+01, 2.2000e+01, 2.4000e+01, 2.2000e+01,\n",
       "        2.6000e+01, 1.6000e+01, 2.8000e+01, 1.9000e+01, 2.2000e+01,\n",
       "        0.0000e+00, 2.1000e+01, 1.5000e+01, 1.4000e+01, 1.5000e+01,\n",
       "        2.2000e+01, 2.2000e+01, 2.8000e+01, 2.0000e+01, 2.2000e+01,\n",
       "        1.8000e+01, 1.8000e+01, 2.3000e+01, 2.1000e+01, 1.3000e+01,\n",
       "        1.3000e+01, 1.6000e+01, 2.1000e+01, 1.6000e+01, 2.3000e+01,\n",
       "        1.6000e+01, 2.0000e+01, 1.7000e+01, 1.7000e+01, 1.2000e+01,\n",
       "        1.7000e+01, 1.3000e+01, 2.1000e+01, 1.3000e+01, 1.4000e+01,\n",
       "        2.0000e+01, 1.5000e+01, 2.1000e+01, 2.3000e+01, 1.4000e+01,\n",
       "        1.7000e+01, 1.4000e+01, 1.3000e+01, 1.8000e+01, 1.9000e+01,\n",
       "        2.2000e+01, 1.3000e+01, 1.3000e+01, 1.4000e+01, 1.6000e+01,\n",
       "        1.5000e+01, 0.0000e+00, 2.2000e+01, 1.3000e+01, 1.1000e+01,\n",
       "        2.1000e+01, 1.1000e+01, 1.4000e+01, 2.4000e+01, 1.9000e+01,\n",
       "        1.0000e+01, 1.7000e+01, 2.0000e+01, 1.1000e+01, 2.5000e+01,\n",
       "        2.3000e+01, 2.8000e+01, 1.1000e+01, 1.2000e+01, 1.6000e+01,\n",
       "        1.9000e+01, 1.0000e+01, 2.0000e+01, 1.2000e+01, 1.5000e+01,\n",
       "        1.1000e+01, 1.8000e+01, 8.0000e+00, 9.0000e+00, 1.6000e+01,\n",
       "        1.7000e+01, 1.0000e+01, 1.2000e+01, 1.1000e+01, 1.3000e+01,\n",
       "        1.4000e+01, 1.0000e+01, 2.3000e+01, 1.8000e+01, 1.4000e+01,\n",
       "        7.0000e+00, 1.2000e+01, 1.4000e+01, 1.2000e+01, 8.0000e+00,\n",
       "        1.3000e+01, 0.0000e+00, 1.3000e+01, 1.4000e+01, 1.7000e+01,\n",
       "        1.1000e+01, 1.8000e+01, 4.0000e+00, 1.2000e+01, 2.0000e+01,\n",
       "        1.4000e+01, 7.0000e+00, 1.4000e+01, 9.0000e+00, 8.0000e+00,\n",
       "        1.4000e+01, 1.6000e+01, 1.3000e+01, 1.4000e+01, 1.6000e+01,\n",
       "        2.1000e+01, 1.0000e+01, 1.4000e+01, 1.3000e+01, 8.0000e+00,\n",
       "        1.8000e+01, 1.7000e+01, 1.7000e+01, 1.5000e+01, 1.4000e+01,\n",
       "        1.0000e+01, 9.0000e+00, 1.5000e+01, 1.4000e+01, 1.6000e+01,\n",
       "        1.2000e+01, 1.2000e+01, 9.0000e+00, 6.0000e+00, 1.5000e+01,\n",
       "        1.5000e+01, 1.2000e+01, 9.0000e+00, 1.4000e+01, 8.0000e+00,\n",
       "        1.0000e+01, 2.0000e+01, 0.0000e+00, 1.1000e+01, 1.3000e+01,\n",
       "        1.2000e+01, 1.4000e+01, 1.8000e+01, 1.1000e+01, 1.6000e+01,\n",
       "        8.0000e+00, 1.5000e+01, 1.2000e+01, 9.0000e+00, 9.0000e+00,\n",
       "        6.0000e+00, 1.0000e+01, 8.0000e+00, 1.7000e+01, 8.0000e+00,\n",
       "        1.2000e+01, 8.0000e+00, 1.2000e+01, 1.7000e+01, 9.0000e+00,\n",
       "        1.4000e+01, 1.2000e+01, 1.4000e+01, 1.2000e+01, 8.0000e+00,\n",
       "        1.4000e+01, 1.1000e+01, 8.0000e+00, 3.0000e+00, 1.5000e+01,\n",
       "        1.2000e+01, 1.3000e+01, 1.3000e+01, 1.2000e+01, 9.0000e+00,\n",
       "        1.3000e+01, 9.0000e+00, 1.3000e+01, 1.2000e+01, 1.1000e+01,\n",
       "        9.0000e+00, 1.1000e+01, 0.0000e+00, 7.0000e+00, 1.0000e+01,\n",
       "        1.2000e+01, 1.4000e+01, 1.6000e+01, 9.0000e+00, 1.2000e+01,\n",
       "        1.3000e+01, 1.0000e+01, 1.0000e+01, 2.1000e+01, 1.4000e+01,\n",
       "        1.4000e+01, 9.0000e+00, 2.0000e+00, 1.1000e+01, 1.0000e+01,\n",
       "        1.1000e+01, 1.2000e+01, 1.2000e+01, 9.0000e+00, 5.0000e+00,\n",
       "        8.0000e+00, 8.0000e+00, 4.0000e+00, 1.0000e+01, 1.4000e+01,\n",
       "        4.0000e+00, 1.1000e+01, 1.1000e+01, 7.0000e+00, 1.1000e+01,\n",
       "        7.0000e+00, 1.4000e+01, 8.0000e+00, 1.2000e+01, 1.2000e+01,\n",
       "        5.0000e+00, 1.1000e+01, 1.0000e+01, 9.0000e+00, 1.2000e+01,\n",
       "        1.0000e+01, 1.2000e+01, 1.5000e+01, 0.0000e+00, 9.0000e+00,\n",
       "        5.0000e+00, 5.0000e+00, 4.0000e+00, 6.0000e+00, 8.0000e+00,\n",
       "        1.2000e+01, 6.0000e+00, 1.1000e+01, 1.3000e+01, 8.0000e+00,\n",
       "        4.0000e+00, 7.0000e+00, 5.0000e+00, 9.0000e+00, 8.0000e+00,\n",
       "        6.0000e+00, 6.0000e+00, 6.0000e+00, 9.0000e+00, 9.0000e+00,\n",
       "        3.0000e+00, 1.0000e+01, 6.0000e+00, 1.6000e+01, 1.3000e+01,\n",
       "        7.0000e+00, 1.4000e+01, 7.0000e+00, 1.0000e+01, 4.0000e+00,\n",
       "        9.0000e+00, 5.0000e+00, 9.0000e+00, 1.2000e+01, 1.2000e+01,\n",
       "        7.0000e+00, 8.0000e+00, 1.2000e+01, 8.0000e+00, 1.0000e+01,\n",
       "        9.0000e+00, 8.0000e+00, 9.0000e+00, 0.0000e+00, 2.0000e+00,\n",
       "        1.2000e+01, 6.0000e+00, 1.6000e+01, 8.0000e+00, 1.1000e+01,\n",
       "        4.0000e+00, 8.0000e+00, 1.0000e+01, 3.0000e+00, 7.0000e+00,\n",
       "        1.1000e+01, 1.4000e+01, 1.0000e+01, 6.0000e+00, 5.0000e+00,\n",
       "        6.0000e+00, 5.0000e+00, 7.0000e+00, 1.2000e+01, 6.0000e+00,\n",
       "        7.0000e+00, 7.0000e+00, 7.0000e+00, 4.0000e+00, 8.0000e+00,\n",
       "        4.0000e+00, 8.0000e+00, 5.0000e+00, 6.0000e+00, 5.0000e+00,\n",
       "        7.0000e+00, 6.0000e+00, 7.0000e+00, 3.0000e+00, 1.4000e+01,\n",
       "        7.0000e+00, 6.0000e+00, 8.0000e+00, 8.0000e+00, 7.0000e+00,\n",
       "        7.0000e+00, 5.0000e+00, 4.0000e+00, 7.0000e+00, 0.0000e+00,\n",
       "        6.0000e+00, 1.2000e+01, 4.0000e+00, 1.0000e+01, 7.0000e+00,\n",
       "        1.0000e+01, 4.0000e+00, 7.0000e+00, 8.0000e+00, 7.0000e+00,\n",
       "        3.0000e+00, 9.0000e+00, 6.0000e+00, 3.0000e+00, 9.0000e+00,\n",
       "        7.0000e+00, 8.0000e+00, 2.0000e+00, 8.0000e+00, 8.0000e+00,\n",
       "        7.0000e+00, 5.0000e+00, 3.0000e+00, 8.0000e+00, 7.0000e+00,\n",
       "        1.0000e+01, 8.0000e+00, 6.0000e+00, 6.0000e+00, 5.0000e+00,\n",
       "        1.1000e+01, 5.0000e+00, 6.0000e+00, 3.0000e+00, 6.0000e+00,\n",
       "        1.2000e+01, 8.0000e+00, 8.0000e+00, 8.0000e+00, 9.0000e+00,\n",
       "        5.0000e+00, 1.1000e+01, 7.0000e+00, 5.0000e+00, 0.0000e+00,\n",
       "        7.0000e+00, 5.0000e+00, 6.0000e+00, 1.0000e+01, 6.0000e+00,\n",
       "        9.0000e+00, 3.0000e+00, 8.0000e+00, 5.0000e+00, 3.0000e+00,\n",
       "        8.0000e+00, 7.0000e+00, 6.0000e+00, 7.0000e+00, 5.0000e+00,\n",
       "        7.0000e+00, 6.0000e+00, 1.1000e+01, 5.0000e+00, 6.0000e+00,\n",
       "        5.0000e+00, 8.0000e+00, 1.1000e+01, 6.0000e+00, 9.0000e+00,\n",
       "        1.2000e+01, 4.0000e+00, 8.0000e+00, 6.0000e+00, 8.0000e+00,\n",
       "        3.0000e+00, 5.0000e+00, 7.0000e+00, 3.0000e+00, 1.3000e+01,\n",
       "        4.0000e+00, 4.0000e+00, 4.0000e+00, 2.0000e+00, 6.0000e+00,\n",
       "        3.0000e+00, 5.0000e+00, 7.0000e+00, 8.0000e+00, 5.0000e+00]),\n",
       " array([ 21.   ,  21.978,  22.956, ..., 997.044, 998.022, 999.   ]),\n",
       " <a list of 1000 Patch objects>)"
      ]
     },
     "execution_count": 45,
     "metadata": {},
     "output_type": "execute_result"
    },
    {
     "data": {
      "image/png": "[encoded data removed]",
      "text/plain": [
       "<Figure size 432x288 with 1 Axes>"
      ]
     },
     "metadata": {},
     "output_type": "display_data"
    }
   ],
   "source": [
    "temp = item_value_counts_counts[(item_value_counts_counts<1000) & (item_value_counts_counts>20)]\n",
    "plt.figure(facecolor='w')\n",
    "plt.hist(temp, bins=1000)"
   ]
  },
  {
   "cell_type": "markdown",
   "metadata": {},
   "source": [
    "### timestamp 분석"
   ]
  },
  {
   "cell_type": "code",
   "execution_count": 60,
   "metadata": {
    "ExecuteTime": {
     "end_time": "2020-11-27T02:17:59.838546Z",
     "start_time": "2020-11-27T02:17:51.633248Z"
    }
   },
   "outputs": [
    {
     "data": {
      "text/html": [
       "<div>\n",
       "<style scoped>\n",
       "    .dataframe tbody tr th:only-of-type {\n",
       "        vertical-align: middle;\n",
       "    }\n",
       "\n",
       "    .dataframe tbody tr th {\n",
       "        vertical-align: top;\n",
       "    }\n",
       "\n",
       "    .dataframe thead th {\n",
       "        text-align: right;\n",
       "    }\n",
       "</style>\n",
       "<table border=\"1\" class=\"dataframe\">\n",
       "  <thead>\n",
       "    <tr style=\"text-align: right;\">\n",
       "      <th></th>\n",
       "      <th>item</th>\n",
       "      <th>user</th>\n",
       "      <th>rating</th>\n",
       "      <th>timestamp</th>\n",
       "    </tr>\n",
       "  </thead>\n",
       "  <tbody>\n",
       "    <tr>\n",
       "      <th>3482167</th>\n",
       "      <td>93865</td>\n",
       "      <td>10599777</td>\n",
       "      <td>4</td>\n",
       "      <td>832550400</td>\n",
       "    </tr>\n",
       "    <tr>\n",
       "      <th>3476836</th>\n",
       "      <td>93540</td>\n",
       "      <td>6912524</td>\n",
       "      <td>5</td>\n",
       "      <td>833500800</td>\n",
       "    </tr>\n",
       "    <tr>\n",
       "      <th>18394619</th>\n",
       "      <td>970012</td>\n",
       "      <td>9578352</td>\n",
       "      <td>5</td>\n",
       "      <td>835315200</td>\n",
       "    </tr>\n",
       "    <tr>\n",
       "      <th>11181984</th>\n",
       "      <td>346071</td>\n",
       "      <td>11257537</td>\n",
       "      <td>1</td>\n",
       "      <td>835660800</td>\n",
       "    </tr>\n",
       "    <tr>\n",
       "      <th>12923138</th>\n",
       "      <td>445737</td>\n",
       "      <td>11257537</td>\n",
       "      <td>5</td>\n",
       "      <td>840240000</td>\n",
       "    </tr>\n",
       "  </tbody>\n",
       "</table>\n",
       "</div>"
      ],
      "text/plain": [
       "            item      user  rating  timestamp\n",
       "3482167    93865  10599777       4  832550400\n",
       "3476836    93540   6912524       5  833500800\n",
       "18394619  970012   9578352       5  835315200\n",
       "11181984  346071  11257537       1  835660800\n",
       "12923138  445737  11257537       5  840240000"
      ]
     },
     "execution_count": 60,
     "metadata": {},
     "output_type": "execute_result"
    }
   ],
   "source": [
    "pure_data = pure_data.sort_values('timestamp')\n",
    "pure_data.head()"
   ]
  },
  {
   "cell_type": "code",
   "execution_count": 61,
   "metadata": {
    "ExecuteTime": {
     "end_time": "2020-11-27T02:18:40.565582Z",
     "start_time": "2020-11-27T02:18:40.291142Z"
    }
   },
   "outputs": [
    {
     "data": {
      "text/plain": [
       "1415318400    22680\n",
       "1229990400     1858\n",
       "1044662400      715\n",
       "1474329600    24310\n",
       "1289001600     2333\n",
       "Name: timestamp, dtype: int64"
      ]
     },
     "execution_count": 61,
     "metadata": {},
     "output_type": "execute_result"
    }
   ],
   "source": [
    "timestamp_value_counts = pure_data['timestamp'].value_counts(sort=False)\n",
    "timestamp_value_counts.head()"
   ]
  },
  {
   "cell_type": "code",
   "execution_count": 62,
   "metadata": {
    "ExecuteTime": {
     "end_time": "2020-11-27T02:19:35.634217Z",
     "start_time": "2020-11-27T02:19:35.627798Z"
    }
   },
   "outputs": [
    {
     "data": {
      "text/plain": [
       "832550400    1\n",
       "833500800    1\n",
       "835315200    1\n",
       "835660800    1\n",
       "840240000    1\n",
       "Name: timestamp, dtype: int64"
      ]
     },
     "execution_count": 62,
     "metadata": {},
     "output_type": "execute_result"
    }
   ],
   "source": [
    "timestamp_value_counts = timestamp_value_counts.sort_index()\n",
    "timestamp_value_counts.head()"
   ]
  },
  {
   "cell_type": "code",
   "execution_count": 64,
   "metadata": {
    "ExecuteTime": {
     "end_time": "2020-11-27T02:20:24.564398Z",
     "start_time": "2020-11-27T02:20:24.561356Z"
    }
   },
   "outputs": [],
   "source": [
    "timestamp_value_counts_timestamps = timestamp_value_counts.keys().to_numpy()\n",
    "timestamp_value_counts_counts = timestamp_value_counts.to_numpy()"
   ]
  },
  {
   "cell_type": "code",
   "execution_count": 65,
   "metadata": {
    "ExecuteTime": {
     "end_time": "2020-11-27T02:21:20.161930Z",
     "start_time": "2020-11-27T02:21:20.156963Z"
    }
   },
   "outputs": [
    {
     "name": "stdout",
     "output_type": "stream",
     "text": [
      "Total number of data:  51311621\n",
      "Unique timestamp:  7837\n"
     ]
    }
   ],
   "source": [
    "print('Total number of data: ', pure_data['timestamp'].shape[0])\n",
    "print('Unique timestamp: ', timestamp_value_counts_timestamps.shape[0])"
   ]
  },
  {
   "cell_type": "code",
   "execution_count": 66,
   "metadata": {
    "ExecuteTime": {
     "end_time": "2020-11-27T02:22:15.115045Z",
     "start_time": "2020-11-27T02:22:15.010901Z"
    }
   },
   "outputs": [
    {
     "data": {
      "text/plain": [
       "[<matplotlib.lines.Line2D at 0x7f2144d26750>]"
      ]
     },
     "execution_count": 66,
     "metadata": {},
     "output_type": "execute_result"
    },
    {
     "data": {
      "image/png": "[encoded data removed]",
      "text/plain": [
       "<Figure size 432x288 with 1 Axes>"
      ]
     },
     "metadata": {},
     "output_type": "display_data"
    }
   ],
   "source": [
    "plt.figure(facecolor='w')\n",
    "plt.plot(timestamp_value_counts_timestamps, 'o', ms=0.01)"
   ]
  },
  {
   "cell_type": "code",
   "execution_count": 67,
   "metadata": {
    "ExecuteTime": {
     "end_time": "2020-11-27T02:22:36.116454Z",
     "start_time": "2020-11-27T02:22:36.018249Z"
    }
   },
   "outputs": [
    {
     "data": {
      "text/plain": [
       "[<matplotlib.lines.Line2D at 0x7f22211bd410>]"
      ]
     },
     "execution_count": 67,
     "metadata": {},
     "output_type": "execute_result"
    },
    {
     "data": {
      "image/png": "[encoded data removed]",
      "text/plain": [
       "<Figure size 432x288 with 1 Axes>"
      ]
     },
     "metadata": {},
     "output_type": "display_data"
    }
   ],
   "source": [
    "plt.figure(facecolor='w')\n",
    "plt.plot(timestamp_value_counts_counts)"
   ]
  },
  {
   "cell_type": "markdown",
   "metadata": {},
   "source": [
    "### Data Summary\n",
    "-  평점의 분포가 4, 5점, 특히 5점이 압도적으로 많다    => 추천 알고리즘이라서 크게 문제되지 않을 수 있음     \n",
    "     \n",
    "-  user 별 rating 개수의 upperbound 와 lowerbound를 어떻게 정하느냐에 따라 데이터 분포가 크게 달라짐  \n",
    "  \n",
    "-  timestamp는 연속적인 값을 가지지만, histogram의 분포는 최근에 매우 몰려 있다.  => 큰 문제로 보이진 않음  \n",
    "\n",
    "-  동시에 여러개의 item을 구매한 user의 처리  \n",
    "\n",
    "-  동일한 item을 여러개 구매한 user의 처리\n"
   ]
  },
  {
   "cell_type": "markdown",
   "metadata": {},
   "source": [
    "### Test 해봐야할 것\n",
    "- data를 user의 count에 따라 어떻게 나눌지 정해야 한다.\n",
    "- movielens 데이터에서 N>20 의 기준으로 자른 것이 강화학습의 MDP 관점에서 bias가 얼마나 있을지 생각해야한다\n",
    "  => lowerbound와 upperbound 설정에 따른 성능 비교 필요"
   ]
  },
  {
   "cell_type": "markdown",
   "metadata": {},
   "source": [
    "#### test 1. upper: 120, lower: 20"
   ]
  },
  {
   "cell_type": "code",
   "execution_count": null,
   "metadata": {
    "ExecuteTime": {
     "start_time": "2020-11-27T02:39:12.044Z"
    }
   },
   "outputs": [],
   "source": [
    "processed_data = pure_data.set_index('user')"
   ]
  },
  {
   "cell_type": "code",
   "execution_count": 76,
   "metadata": {
    "ExecuteTime": {
     "end_time": "2020-11-27T02:39:01.794677Z",
     "start_time": "2020-11-27T02:39:01.792956Z"
    }
   },
   "outputs": [],
   "source": [
    "Upper_N = 120\n",
    "Lower_N = 20"
   ]
  },
  {
   "cell_type": "code",
   "execution_count": 77,
   "metadata": {
    "ExecuteTime": {
     "end_time": "2020-11-27T02:39:02.175585Z",
     "start_time": "2020-11-27T02:39:02.134813Z"
    }
   },
   "outputs": [
    {
     "ename": "NameError",
     "evalue": "name 'processed_data' is not defined",
     "output_type": "error",
     "traceback": [
      "\u001b[0;31m---------------------------------------------------------------------------\u001b[0m",
      "\u001b[0;31mNameError\u001b[0m                                 Traceback (most recent call last)",
      "\u001b[0;32m<ipython-input-77-1f340a110983>\u001b[0m in \u001b[0;36m<module>\u001b[0;34m\u001b[0m\n\u001b[1;32m      1\u001b[0m \u001b[0muser_indices\u001b[0m \u001b[0;34m=\u001b[0m \u001b[0muser_value_counts_users\u001b[0m\u001b[0;34m[\u001b[0m\u001b[0;34m(\u001b[0m\u001b[0muser_value_counts_counts\u001b[0m\u001b[0;34m<\u001b[0m\u001b[0mUpper_N\u001b[0m\u001b[0;34m)\u001b[0m \u001b[0;34m&\u001b[0m \u001b[0;34m(\u001b[0m\u001b[0muser_value_counts_counts\u001b[0m\u001b[0;34m>\u001b[0m\u001b[0mLower_N\u001b[0m\u001b[0;34m)\u001b[0m\u001b[0;34m]\u001b[0m\u001b[0;34m\u001b[0m\u001b[0;34m\u001b[0m\u001b[0m\n\u001b[1;32m      2\u001b[0m \u001b[0;34m\u001b[0m\u001b[0m\n\u001b[0;32m----> 3\u001b[0;31m \u001b[0mprint\u001b[0m\u001b[0;34m(\u001b[0m\u001b[0;34m\"Counts of data BEFORE slicing: \"\u001b[0m\u001b[0;34m,\u001b[0m \u001b[0mlen\u001b[0m\u001b[0;34m(\u001b[0m\u001b[0mprocessed_data\u001b[0m\u001b[0;34m)\u001b[0m\u001b[0;34m)\u001b[0m\u001b[0;34m\u001b[0m\u001b[0;34m\u001b[0m\u001b[0m\n\u001b[0m\u001b[1;32m      4\u001b[0m \u001b[0;34m\u001b[0m\u001b[0m\n\u001b[1;32m      5\u001b[0m \u001b[0mproccesed_data\u001b[0m \u001b[0;34m=\u001b[0m \u001b[0mprocessed_data\u001b[0m\u001b[0;34m.\u001b[0m\u001b[0mloc\u001b[0m\u001b[0;34m[\u001b[0m\u001b[0muser_indices\u001b[0m\u001b[0;34m]\u001b[0m\u001b[0;34m\u001b[0m\u001b[0;34m\u001b[0m\u001b[0m\n",
      "\u001b[0;31mNameError\u001b[0m: name 'processed_data' is not defined"
     ]
    }
   ],
   "source": [
    "user_indices = user_value_counts_users[(user_value_counts_counts<Upper_N) & (user_value_counts_counts>Lower_N)]\n",
    "\n",
    "print(\"Counts of data BEFORE slicing: \", len(processed_data))\n",
    "\n",
    "proccesed_data = processed_data.loc[user_indices]\n",
    "print(\"Counts of data AFTER slicing: \", len(processed_data))"
   ]
  },
  {
   "cell_type": "code",
   "execution_count": null,
   "metadata": {},
   "outputs": [],
   "source": [
    "user_value_counts_users[(user_value_counts_counts<Upper_N) & (user_value_counts_counts>Lower_N)][:10], user_value_counts_counts[(user_value_counts_counts<Upper_N) & (user_value_counts_counts>Lower_N)][:10]"
   ]
  },
  {
   "cell_type": "markdown",
   "metadata": {},
   "source": [
    "## 2. DataGenerator"
   ]
  },
  {
   "cell_type": "code",
   "execution_count": 14,
   "metadata": {
    "ExecuteTime": {
     "end_time": "2020-11-24T14:06:53.985542Z",
     "start_time": "2020-11-24T14:06:53.970978Z"
    },
    "id": "1HEIhbCBFdxA"
   },
   "outputs": [],
   "source": [
    "class DataGenerator():\n",
    "    def __init__(self, datapath):\n",
    "        self.data = self.load_datas(datapath)\n",
    "        self.users = self.data['user'].unique()\n",
    "        self.items = self.data['item'].unique()\n",
    "        self.histo = self.gen_histo()\n",
    "        self.train = []\n",
    "        self.test = []\n",
    "        #self.data_small\n",
    "        \n",
    "    \n",
    "    def load_datas(self, datapath):\n",
    "        #data = pd.read_csv(datapath, names=['item', 'user', 'rating', 'timestamp'])\n",
    "        data = pd.read_csv(datapath, dtype={'item': int, 'user': int, 'rating': int, 'timestamp': int}, header=0)\n",
    "        #data2 = data.astype({'item': str, 'user': str, 'rating': int, 'timestamp': int})\n",
    "        #data['item'] = data['item'].astype(str)\n",
    "        #data['user'] = data['user'].astype(str)\n",
    "        #data['rating'] = data['rating'].astype(str)\n",
    "        #data['rating'] = data['rating'].astype(int)\n",
    "        #data['timestamp'] = data['timestamp'].astype(str)\n",
    "        #data['timestamp'] = data['timestamp'].astype(int)\n",
    "\n",
    "        #print(type(data2['item']), type(data2['user']), type(data2['rating']), type(data2['timestamp']))\n",
    "\n",
    "        #data2.head()\n",
    "\n",
    "        return data\n",
    "    \n",
    "    def gen_histo(self):\n",
    "        historic_users = []\n",
    "        for i, u in enumerate(self.users):\n",
    "            #self.data_small = self.data[self.data['user'] == u]\n",
    "            temp = self.data[self.data['user'] == u]\n",
    "            temp = temp.sort_values('timestamp').reset_index()\n",
    "            temp.drop('index', axis=1, inplace=True)\n",
    "            historic_users.append(temp)\n",
    "        return historic_users\n",
    "    \n",
    "    def sample_histo(self, user_histo, action_ratio=0.8, \n",
    "                     max_samp_by_user=5, max_state=100, max_action=50, nb_states=[], nb_actions=[]):\n",
    "        n = len(user_histo)\n",
    "        \n",
    "        sep = int(action_ratio * n)\n",
    "        nb_sample = random.randint(1, max_samp_by_user)\n",
    "\n",
    "        if not nb_states:\n",
    "            nb_states = [min(random.randint(1, sep), max_state) for i in range(nb_sample)]\n",
    "        if not nb_actions:\n",
    "            nb_actions = [min(random.randint(1, n-sep), max_action) for i in range(nb_sample)]\n",
    "        \n",
    "        assert len(nb_states) == len(nb_actions)\n",
    "\n",
    "        states = []\n",
    "        actions = []\n",
    "\n",
    "        \n",
    "\n",
    "        for i in range(len(nb_states)):\n",
    "            \n",
    "            sample_states = user_histo.iloc[0:sep].sample(nb_states[i])\n",
    "            sample_actions = user_histo.iloc[-(n-sep):].sample(nb_actions[i])\n",
    "\n",
    "                \n",
    "            sample_state = []\n",
    "            sample_action = []\n",
    "            for j in range(nb_states[i]):\n",
    "                row = sample_states.iloc[j]\n",
    "                # FORMAT STATE\n",
    "                state = str(row.loc['item']) + '&' + str(row.loc['rating'])\n",
    "                sample_state.append(state)\n",
    "            \n",
    "            for j in range(nb_actions[i]):\n",
    "                row = sample_actions.iloc[j]\n",
    "                # FORMAT ACTION\n",
    "                action = str(row.loc['item']) + '&' + str(row.loc['rating'])\n",
    "                sample_action.append(action)\n",
    "            \n",
    "            states.append(sample_state)\n",
    "            actions.append(sample_action)\n",
    "            \n",
    "        return states, actions\n",
    "\n",
    "    def gen_train_test(self, test_ratio, seed=None):\n",
    "        print('gen_train start')\n",
    "        n = len(self.histo)\n",
    "\n",
    "        if seed is not None:\n",
    "            random.Random(seed).shuffle(self.histo)\n",
    "        else:\n",
    "            random.shuffle(self.histo)\n",
    "\n",
    "        self.train = self.histo[:int((test_ratio * n))]\n",
    "        self.test = self.histo[int((test_ratio * n)):]\n",
    "        self.user_train = [h.iloc[1,1] for h in self.train]\n",
    "        print(self.user_train[0])\n",
    "        self.user_test = [h.iloc[1,1] for h in self.test]\n",
    "\n",
    "    def write_csv(self, filename, histo_to_write, delimiter=';', action_ratio=0.8, \n",
    "                  max_samp_by_user=5, max_state=100, max_action=50, nb_states=[], nb_actions=[]):\n",
    "         with open(filename, mode='w') as file:\n",
    "            f_writer = csv.writer(file, delimiter=delimiter)\n",
    "            f_writer.writerow(['state', 'action_reward', 'n_state'])\n",
    "            for user_histo in histo_to_write:\n",
    "                states, actions = self.sample_histo(user_histo, action_ratio, \n",
    "                                                    max_samp_by_user, max_state, max_action, nb_states, nb_actions)\n",
    "                for i in range(len(states)):\n",
    "                    # FORMAT STATE\n",
    "                    state_str = '|'.join(states[i])\n",
    "                    # FORMAT ACTION\n",
    "                    action_str = '|'.join(actions[i])\n",
    "                    # FORMAT N_STATE\n",
    "                    n_state_str = state_str + '|' + action_str\n",
    "                    f_writer.writerow([state_str, action_str, n_state_str])\n",
    "\n"
   ]
  },
  {
   "cell_type": "code",
   "execution_count": 16,
   "metadata": {
    "ExecuteTime": {
     "end_time": "2020-11-24T14:06:54.173062Z",
     "start_time": "2020-11-24T14:06:53.999729Z"
    },
    "colab": {
     "base_uri": "https://localhost:8080/"
    },
    "id": "Kem8VloMF0Hf",
    "outputId": "3546c28e-4444-4099-8a98-b2c4072a9f44"
   },
   "outputs": [
    {
     "ename": "FileNotFoundError",
     "evalue": "[Errno 2] File /content/books_3000.csv does not exist: '/content/books_3000.csv'",
     "output_type": "error",
     "traceback": [
      "\u001b[0;31m---------------------------------------------------------------------------\u001b[0m",
      "\u001b[0;31mFileNotFoundError\u001b[0m                         Traceback (most recent call last)",
      "\u001b[0;32m<ipython-input-16-e4da5a9668ae>\u001b[0m in \u001b[0;36m<module>\u001b[0;34m\u001b[0m\n\u001b[1;32m     16\u001b[0m \u001b[0;34m\u001b[0m\u001b[0m\n\u001b[1;32m     17\u001b[0m \u001b[0mdatapath\u001b[0m \u001b[0;34m=\u001b[0m \u001b[0;34m'/content/books_3000.csv'\u001b[0m\u001b[0;34m\u001b[0m\u001b[0;34m\u001b[0m\u001b[0m\n\u001b[0;32m---> 18\u001b[0;31m \u001b[0mdg\u001b[0m \u001b[0;34m=\u001b[0m \u001b[0mDataGenerator\u001b[0m\u001b[0;34m(\u001b[0m\u001b[0mdatapath\u001b[0m\u001b[0;34m)\u001b[0m\u001b[0;34m\u001b[0m\u001b[0;34m\u001b[0m\u001b[0m\n\u001b[0m\u001b[1;32m     19\u001b[0m \u001b[0mdg\u001b[0m\u001b[0;34m.\u001b[0m\u001b[0mgen_train_test\u001b[0m\u001b[0;34m(\u001b[0m\u001b[0;36m0.8\u001b[0m\u001b[0;34m,\u001b[0m \u001b[0mseed\u001b[0m\u001b[0;34m=\u001b[0m\u001b[0;36m42\u001b[0m\u001b[0;34m)\u001b[0m\u001b[0;34m\u001b[0m\u001b[0;34m\u001b[0m\u001b[0m\n\u001b[1;32m     20\u001b[0m \u001b[0;34m\u001b[0m\u001b[0m\n",
      "\u001b[0;32m<ipython-input-14-a4f782712c0f>\u001b[0m in \u001b[0;36m__init__\u001b[0;34m(self, datapath)\u001b[0m\n\u001b[1;32m      1\u001b[0m \u001b[0;32mclass\u001b[0m \u001b[0mDataGenerator\u001b[0m\u001b[0;34m(\u001b[0m\u001b[0;34m)\u001b[0m\u001b[0;34m:\u001b[0m\u001b[0;34m\u001b[0m\u001b[0;34m\u001b[0m\u001b[0m\n\u001b[1;32m      2\u001b[0m     \u001b[0;32mdef\u001b[0m \u001b[0m__init__\u001b[0m\u001b[0;34m(\u001b[0m\u001b[0mself\u001b[0m\u001b[0;34m,\u001b[0m \u001b[0mdatapath\u001b[0m\u001b[0;34m)\u001b[0m\u001b[0;34m:\u001b[0m\u001b[0;34m\u001b[0m\u001b[0;34m\u001b[0m\u001b[0m\n\u001b[0;32m----> 3\u001b[0;31m         \u001b[0mself\u001b[0m\u001b[0;34m.\u001b[0m\u001b[0mdata\u001b[0m \u001b[0;34m=\u001b[0m \u001b[0mself\u001b[0m\u001b[0;34m.\u001b[0m\u001b[0mload_datas\u001b[0m\u001b[0;34m(\u001b[0m\u001b[0mdatapath\u001b[0m\u001b[0;34m)\u001b[0m\u001b[0;34m\u001b[0m\u001b[0;34m\u001b[0m\u001b[0m\n\u001b[0m\u001b[1;32m      4\u001b[0m         \u001b[0mself\u001b[0m\u001b[0;34m.\u001b[0m\u001b[0musers\u001b[0m \u001b[0;34m=\u001b[0m \u001b[0mself\u001b[0m\u001b[0;34m.\u001b[0m\u001b[0mdata\u001b[0m\u001b[0;34m[\u001b[0m\u001b[0;34m'user'\u001b[0m\u001b[0;34m]\u001b[0m\u001b[0;34m.\u001b[0m\u001b[0munique\u001b[0m\u001b[0;34m(\u001b[0m\u001b[0;34m)\u001b[0m\u001b[0;34m\u001b[0m\u001b[0;34m\u001b[0m\u001b[0m\n\u001b[1;32m      5\u001b[0m         \u001b[0mself\u001b[0m\u001b[0;34m.\u001b[0m\u001b[0mitems\u001b[0m \u001b[0;34m=\u001b[0m \u001b[0mself\u001b[0m\u001b[0;34m.\u001b[0m\u001b[0mdata\u001b[0m\u001b[0;34m[\u001b[0m\u001b[0;34m'item'\u001b[0m\u001b[0;34m]\u001b[0m\u001b[0;34m.\u001b[0m\u001b[0munique\u001b[0m\u001b[0;34m(\u001b[0m\u001b[0;34m)\u001b[0m\u001b[0;34m\u001b[0m\u001b[0;34m\u001b[0m\u001b[0m\n",
      "\u001b[0;32m<ipython-input-14-a4f782712c0f>\u001b[0m in \u001b[0;36mload_datas\u001b[0;34m(self, datapath)\u001b[0m\n\u001b[1;32m     12\u001b[0m     \u001b[0;32mdef\u001b[0m \u001b[0mload_datas\u001b[0m\u001b[0;34m(\u001b[0m\u001b[0mself\u001b[0m\u001b[0;34m,\u001b[0m \u001b[0mdatapath\u001b[0m\u001b[0;34m)\u001b[0m\u001b[0;34m:\u001b[0m\u001b[0;34m\u001b[0m\u001b[0;34m\u001b[0m\u001b[0m\n\u001b[1;32m     13\u001b[0m         \u001b[0;31m#data = pd.read_csv(datapath, names=['item', 'user', 'rating', 'timestamp'])\u001b[0m\u001b[0;34m\u001b[0m\u001b[0;34m\u001b[0m\u001b[0;34m\u001b[0m\u001b[0m\n\u001b[0;32m---> 14\u001b[0;31m         \u001b[0mdata\u001b[0m \u001b[0;34m=\u001b[0m \u001b[0mpd\u001b[0m\u001b[0;34m.\u001b[0m\u001b[0mread_csv\u001b[0m\u001b[0;34m(\u001b[0m\u001b[0mdatapath\u001b[0m\u001b[0;34m,\u001b[0m \u001b[0mdtype\u001b[0m\u001b[0;34m=\u001b[0m\u001b[0;34m{\u001b[0m\u001b[0;34m'item'\u001b[0m\u001b[0;34m:\u001b[0m \u001b[0mint\u001b[0m\u001b[0;34m,\u001b[0m \u001b[0;34m'user'\u001b[0m\u001b[0;34m:\u001b[0m \u001b[0mint\u001b[0m\u001b[0;34m,\u001b[0m \u001b[0;34m'rating'\u001b[0m\u001b[0;34m:\u001b[0m \u001b[0mint\u001b[0m\u001b[0;34m,\u001b[0m \u001b[0;34m'timestamp'\u001b[0m\u001b[0;34m:\u001b[0m \u001b[0mint\u001b[0m\u001b[0;34m}\u001b[0m\u001b[0;34m,\u001b[0m \u001b[0mheader\u001b[0m\u001b[0;34m=\u001b[0m\u001b[0;36m0\u001b[0m\u001b[0;34m)\u001b[0m\u001b[0;34m\u001b[0m\u001b[0;34m\u001b[0m\u001b[0m\n\u001b[0m\u001b[1;32m     15\u001b[0m         \u001b[0;31m#data2 = data.astype({'item': str, 'user': str, 'rating': int, 'timestamp': int})\u001b[0m\u001b[0;34m\u001b[0m\u001b[0;34m\u001b[0m\u001b[0;34m\u001b[0m\u001b[0m\n\u001b[1;32m     16\u001b[0m         \u001b[0;31m#data['item'] = data['item'].astype(str)\u001b[0m\u001b[0;34m\u001b[0m\u001b[0;34m\u001b[0m\u001b[0;34m\u001b[0m\u001b[0m\n",
      "\u001b[0;32m~/anaconda3/envs/aiffel/lib/python3.7/site-packages/pandas/io/parsers.py\u001b[0m in \u001b[0;36mparser_f\u001b[0;34m(filepath_or_buffer, sep, delimiter, header, names, index_col, usecols, squeeze, prefix, mangle_dupe_cols, dtype, engine, converters, true_values, false_values, skipinitialspace, skiprows, skipfooter, nrows, na_values, keep_default_na, na_filter, verbose, skip_blank_lines, parse_dates, infer_datetime_format, keep_date_col, date_parser, dayfirst, cache_dates, iterator, chunksize, compression, thousands, decimal, lineterminator, quotechar, quoting, doublequote, escapechar, comment, encoding, dialect, error_bad_lines, warn_bad_lines, delim_whitespace, low_memory, memory_map, float_precision)\u001b[0m\n\u001b[1;32m    674\u001b[0m         )\n\u001b[1;32m    675\u001b[0m \u001b[0;34m\u001b[0m\u001b[0m\n\u001b[0;32m--> 676\u001b[0;31m         \u001b[0;32mreturn\u001b[0m \u001b[0m_read\u001b[0m\u001b[0;34m(\u001b[0m\u001b[0mfilepath_or_buffer\u001b[0m\u001b[0;34m,\u001b[0m \u001b[0mkwds\u001b[0m\u001b[0;34m)\u001b[0m\u001b[0;34m\u001b[0m\u001b[0;34m\u001b[0m\u001b[0m\n\u001b[0m\u001b[1;32m    677\u001b[0m \u001b[0;34m\u001b[0m\u001b[0m\n\u001b[1;32m    678\u001b[0m     \u001b[0mparser_f\u001b[0m\u001b[0;34m.\u001b[0m\u001b[0m__name__\u001b[0m \u001b[0;34m=\u001b[0m \u001b[0mname\u001b[0m\u001b[0;34m\u001b[0m\u001b[0;34m\u001b[0m\u001b[0m\n",
      "\u001b[0;32m~/anaconda3/envs/aiffel/lib/python3.7/site-packages/pandas/io/parsers.py\u001b[0m in \u001b[0;36m_read\u001b[0;34m(filepath_or_buffer, kwds)\u001b[0m\n\u001b[1;32m    446\u001b[0m \u001b[0;34m\u001b[0m\u001b[0m\n\u001b[1;32m    447\u001b[0m     \u001b[0;31m# Create the parser.\u001b[0m\u001b[0;34m\u001b[0m\u001b[0;34m\u001b[0m\u001b[0;34m\u001b[0m\u001b[0m\n\u001b[0;32m--> 448\u001b[0;31m     \u001b[0mparser\u001b[0m \u001b[0;34m=\u001b[0m \u001b[0mTextFileReader\u001b[0m\u001b[0;34m(\u001b[0m\u001b[0mfp_or_buf\u001b[0m\u001b[0;34m,\u001b[0m \u001b[0;34m**\u001b[0m\u001b[0mkwds\u001b[0m\u001b[0;34m)\u001b[0m\u001b[0;34m\u001b[0m\u001b[0;34m\u001b[0m\u001b[0m\n\u001b[0m\u001b[1;32m    449\u001b[0m \u001b[0;34m\u001b[0m\u001b[0m\n\u001b[1;32m    450\u001b[0m     \u001b[0;32mif\u001b[0m \u001b[0mchunksize\u001b[0m \u001b[0;32mor\u001b[0m \u001b[0miterator\u001b[0m\u001b[0;34m:\u001b[0m\u001b[0;34m\u001b[0m\u001b[0;34m\u001b[0m\u001b[0m\n",
      "\u001b[0;32m~/anaconda3/envs/aiffel/lib/python3.7/site-packages/pandas/io/parsers.py\u001b[0m in \u001b[0;36m__init__\u001b[0;34m(self, f, engine, **kwds)\u001b[0m\n\u001b[1;32m    878\u001b[0m             \u001b[0mself\u001b[0m\u001b[0;34m.\u001b[0m\u001b[0moptions\u001b[0m\u001b[0;34m[\u001b[0m\u001b[0;34m\"has_index_names\"\u001b[0m\u001b[0;34m]\u001b[0m \u001b[0;34m=\u001b[0m \u001b[0mkwds\u001b[0m\u001b[0;34m[\u001b[0m\u001b[0;34m\"has_index_names\"\u001b[0m\u001b[0;34m]\u001b[0m\u001b[0;34m\u001b[0m\u001b[0;34m\u001b[0m\u001b[0m\n\u001b[1;32m    879\u001b[0m \u001b[0;34m\u001b[0m\u001b[0m\n\u001b[0;32m--> 880\u001b[0;31m         \u001b[0mself\u001b[0m\u001b[0;34m.\u001b[0m\u001b[0m_make_engine\u001b[0m\u001b[0;34m(\u001b[0m\u001b[0mself\u001b[0m\u001b[0;34m.\u001b[0m\u001b[0mengine\u001b[0m\u001b[0;34m)\u001b[0m\u001b[0;34m\u001b[0m\u001b[0;34m\u001b[0m\u001b[0m\n\u001b[0m\u001b[1;32m    881\u001b[0m \u001b[0;34m\u001b[0m\u001b[0m\n\u001b[1;32m    882\u001b[0m     \u001b[0;32mdef\u001b[0m \u001b[0mclose\u001b[0m\u001b[0;34m(\u001b[0m\u001b[0mself\u001b[0m\u001b[0;34m)\u001b[0m\u001b[0;34m:\u001b[0m\u001b[0;34m\u001b[0m\u001b[0;34m\u001b[0m\u001b[0m\n",
      "\u001b[0;32m~/anaconda3/envs/aiffel/lib/python3.7/site-packages/pandas/io/parsers.py\u001b[0m in \u001b[0;36m_make_engine\u001b[0;34m(self, engine)\u001b[0m\n\u001b[1;32m   1112\u001b[0m     \u001b[0;32mdef\u001b[0m \u001b[0m_make_engine\u001b[0m\u001b[0;34m(\u001b[0m\u001b[0mself\u001b[0m\u001b[0;34m,\u001b[0m \u001b[0mengine\u001b[0m\u001b[0;34m=\u001b[0m\u001b[0;34m\"c\"\u001b[0m\u001b[0;34m)\u001b[0m\u001b[0;34m:\u001b[0m\u001b[0;34m\u001b[0m\u001b[0;34m\u001b[0m\u001b[0m\n\u001b[1;32m   1113\u001b[0m         \u001b[0;32mif\u001b[0m \u001b[0mengine\u001b[0m \u001b[0;34m==\u001b[0m \u001b[0;34m\"c\"\u001b[0m\u001b[0;34m:\u001b[0m\u001b[0;34m\u001b[0m\u001b[0;34m\u001b[0m\u001b[0m\n\u001b[0;32m-> 1114\u001b[0;31m             \u001b[0mself\u001b[0m\u001b[0;34m.\u001b[0m\u001b[0m_engine\u001b[0m \u001b[0;34m=\u001b[0m \u001b[0mCParserWrapper\u001b[0m\u001b[0;34m(\u001b[0m\u001b[0mself\u001b[0m\u001b[0;34m.\u001b[0m\u001b[0mf\u001b[0m\u001b[0;34m,\u001b[0m \u001b[0;34m**\u001b[0m\u001b[0mself\u001b[0m\u001b[0;34m.\u001b[0m\u001b[0moptions\u001b[0m\u001b[0;34m)\u001b[0m\u001b[0;34m\u001b[0m\u001b[0;34m\u001b[0m\u001b[0m\n\u001b[0m\u001b[1;32m   1115\u001b[0m         \u001b[0;32melse\u001b[0m\u001b[0;34m:\u001b[0m\u001b[0;34m\u001b[0m\u001b[0;34m\u001b[0m\u001b[0m\n\u001b[1;32m   1116\u001b[0m             \u001b[0;32mif\u001b[0m \u001b[0mengine\u001b[0m \u001b[0;34m==\u001b[0m \u001b[0;34m\"python\"\u001b[0m\u001b[0;34m:\u001b[0m\u001b[0;34m\u001b[0m\u001b[0;34m\u001b[0m\u001b[0m\n",
      "\u001b[0;32m~/anaconda3/envs/aiffel/lib/python3.7/site-packages/pandas/io/parsers.py\u001b[0m in \u001b[0;36m__init__\u001b[0;34m(self, src, **kwds)\u001b[0m\n\u001b[1;32m   1889\u001b[0m         \u001b[0mkwds\u001b[0m\u001b[0;34m[\u001b[0m\u001b[0;34m\"usecols\"\u001b[0m\u001b[0;34m]\u001b[0m \u001b[0;34m=\u001b[0m \u001b[0mself\u001b[0m\u001b[0;34m.\u001b[0m\u001b[0musecols\u001b[0m\u001b[0;34m\u001b[0m\u001b[0;34m\u001b[0m\u001b[0m\n\u001b[1;32m   1890\u001b[0m \u001b[0;34m\u001b[0m\u001b[0m\n\u001b[0;32m-> 1891\u001b[0;31m         \u001b[0mself\u001b[0m\u001b[0;34m.\u001b[0m\u001b[0m_reader\u001b[0m \u001b[0;34m=\u001b[0m \u001b[0mparsers\u001b[0m\u001b[0;34m.\u001b[0m\u001b[0mTextReader\u001b[0m\u001b[0;34m(\u001b[0m\u001b[0msrc\u001b[0m\u001b[0;34m,\u001b[0m \u001b[0;34m**\u001b[0m\u001b[0mkwds\u001b[0m\u001b[0;34m)\u001b[0m\u001b[0;34m\u001b[0m\u001b[0;34m\u001b[0m\u001b[0m\n\u001b[0m\u001b[1;32m   1892\u001b[0m         \u001b[0mself\u001b[0m\u001b[0;34m.\u001b[0m\u001b[0munnamed_cols\u001b[0m \u001b[0;34m=\u001b[0m \u001b[0mself\u001b[0m\u001b[0;34m.\u001b[0m\u001b[0m_reader\u001b[0m\u001b[0;34m.\u001b[0m\u001b[0munnamed_cols\u001b[0m\u001b[0;34m\u001b[0m\u001b[0;34m\u001b[0m\u001b[0m\n\u001b[1;32m   1893\u001b[0m \u001b[0;34m\u001b[0m\u001b[0m\n",
      "\u001b[0;32mpandas/_libs/parsers.pyx\u001b[0m in \u001b[0;36mpandas._libs.parsers.TextReader.__cinit__\u001b[0;34m()\u001b[0m\n",
      "\u001b[0;32mpandas/_libs/parsers.pyx\u001b[0m in \u001b[0;36mpandas._libs.parsers.TextReader._setup_parser_source\u001b[0;34m()\u001b[0m\n",
      "\u001b[0;31mFileNotFoundError\u001b[0m: [Errno 2] File /content/books_3000.csv does not exist: '/content/books_3000.csv'"
     ]
    }
   ],
   "source": [
    "# Hyperparameters\n",
    "history_length = 12 # N in article\n",
    "ra_length = 4 # K in article\n",
    "discount_factor = 0.99 # Gamma in Bellman equation\n",
    "actor_lr = 0.0001\n",
    "critic_lr = 0.001\n",
    "tau = 0.001 # τ in Algorithm 3\n",
    "batch_size = 64\n",
    "nb_episodes = 100\n",
    "nb_rounds = 50\n",
    "filename_summary = 'summary.txt'\n",
    "alpha = 0.5 # α (alpha) in Equation (1)\n",
    "gamma = 0.9 # Γ (Gamma) in Equation (4)\n",
    "buffer_size = 1000000 # Size of replay memory D in article\n",
    "fixed_length = True # Fixed memory length\n",
    "\n",
    "'''\n",
    "datapath = '/content/books_3000.csv'\n",
    "dg = DataGenerator(datapath)\n",
    "dg.gen_train_test(0.8, seed=42)\n",
    "\n",
    "print(len(dg.train))\n",
    "print(len(dg.test))\n",
    "print('train: ', dg.train[:10])\n",
    "print('test:', dg.test[:10])\n",
    "\n",
    "dg.write_csv('books_train.csv', dg.train, nb_states=[history_length], nb_actions=[ra_length])\n",
    "dg.write_csv('books_test.csv', dg.test, nb_states=[history_length], nb_actions=[ra_length])\n",
    "\n",
    "data = read_file('books_train.csv')\n",
    "'''"
   ]
  },
  {
   "cell_type": "markdown",
   "metadata": {},
   "source": [
    "## 3. Embedding Generator"
   ]
  },
  {
   "cell_type": "code",
   "execution_count": null,
   "metadata": {
    "ExecuteTime": {
     "end_time": "2020-11-24T14:06:54.177063Z",
     "start_time": "2020-11-24T14:05:58.929Z"
    },
    "id": "Fb2jpAlydZys"
   },
   "outputs": [],
   "source": [
    "import tqdm"
   ]
  },
  {
   "cell_type": "code",
   "execution_count": null,
   "metadata": {
    "ExecuteTime": {
     "end_time": "2020-11-24T14:06:54.177784Z",
     "start_time": "2020-11-24T14:05:58.930Z"
    },
    "colab": {
     "base_uri": "https://localhost:8080/"
    },
    "id": "zI9X9mxdVdPf",
    "outputId": "ab69f720-9066-4e5c-e71a-7a56f77eecf8"
   },
   "outputs": [],
   "source": [
    "class EmbeddingsGenerator:\n",
    "    def __init__(self, train_users, data):\n",
    "        print('train_users: ', train_users)\n",
    "        print('data: ', data)\n",
    "        self.train_users = train_users\n",
    "\n",
    "        #preprocess\n",
    "        self.data = data.sort_values(by=['timestamp'])\n",
    "        #make them start at 0\n",
    "        # self.data['user'] = self.data['user'] \n",
    "        # self.data['item'] = self.data['item']\n",
    "        self.user_count = self.data['user'].max() + 1\n",
    "        self.book_count = self.data['item'].max() + 1\n",
    "        self.user_books = {} #list of rated movies by each user\n",
    "        for userId in range(self.user_count):\n",
    "            self.user_books[userId] = self.data[self.data.user == userId]['item'].tolist()\n",
    "        self.m = self.model()\n",
    "    \n",
    "    def model(self, hidden_layer_size=100):\n",
    "        m = Sequential()\n",
    "        m.add(Dense(hidden_layer_size, input_shape=(1, self.book_count)))\n",
    "        m.add(Dropout(0.2))\n",
    "        m.add(Dense(self.book_count, activation='softmax'))\n",
    "        m.compile(optimizer='adam', loss='categorical_crossentropy', metrics=['accuracy'])\n",
    "        return m\n",
    "    \n",
    "    def generate_input(self, user):\n",
    "        '''\n",
    "        Returns a context and a target for the user\n",
    "        \n",
    "        context: user's history with one random book removed\n",
    "        target: id of random removed book\n",
    "        '''\n",
    "        print('generate input')\n",
    "        print(user)\n",
    "        print(self.user_books)\n",
    "        user_books_count = len(self.user_books[user])\n",
    "        # picking random book\n",
    "        random_index = np.random.randint(0, user_books_count-1) # -1 avoids taking the las book\n",
    "        # setting target\n",
    "        target = np.zeros((1, self.book_count))\n",
    "        target[0][self.user_books[user][random_index]] = 1\n",
    "        # setting context\n",
    "        context = np.zeros((1, self.book_count))\n",
    "        context[0][self.user_books[user][:random_index] + self.user_books[user][random_index + 1:]] = 1\n",
    "        return context, target\n",
    "    \n",
    "    def train(self, nb_epochs=300, batch_size=10000):\n",
    "        '''\n",
    "        Trains the model from train_users's history\n",
    "        '''\n",
    "        print('train start')\n",
    "        for i in range(nb_epochs):\n",
    "            print('%d/%d' % (i+1, nb_epochs))\n",
    "            #batch = [self.generate_input(user=np.random.choice(self.train_users) - 1) for _ in range(batch_size)]\n",
    "            batch = [self.generate_input(user=np.random.choice(self.train_users)) for _ in range(batch_size)]\n",
    "            X_train = np.array([b[0] for b in batch])\n",
    "            y_train = np.array([b[0] for b in batch])\n",
    "            self.m.fit(X_train, y_train, epochs=1, validation_split=0.5)\n",
    "        \n",
    "    def test(self, test_users, batch_size=10000):\n",
    "        '''\n",
    "        Returns [loss, accuracy] on the test set\n",
    "        '''\n",
    "        batch_test = [self.generate_input(user=np.random.choice(test_users)) for _ in range(batch_size)]\n",
    "        X_test = np.array([b[0] for b in batch_test])\n",
    "        y_test = np.array([b[1] for b in batch_test])\n",
    "        return self.m.evaluate(X_test, y_test)\n",
    "    \n",
    "    def save_embeddings(self, file_name):\n",
    "        '''\n",
    "        Generates a csv file containing the vecotr embedding for each book\n",
    "        '''\n",
    "        inp = self.m.input                                          # input placeholder\n",
    "        outputs = [layer.output for layer in self.m.layers]         # all layer outputs\n",
    "        functor = K.function([inp, K.learning_phase()])             # evaluation function\n",
    "        \n",
    "        # append embeddings to vectors\n",
    "        vectors = []\n",
    "        for book_id in range(self.book_count):\n",
    "            book = np.zeros((1, 1, self.book_count))\n",
    "            book[0][0][book_id] = 1\n",
    "            layer_outs = fuctor([book])\n",
    "            vector = [str(v) for v in layer_outs[0][0][0]]\n",
    "            vector = '|'.join(vector)\n",
    "            vectors.append([book_id, vector])\n",
    "        \n",
    "        # saves as a csv file\n",
    "        embeddings = pd.DataFrame(vectors, columns=['item_id', 'vectors']).astype({'book_id': 'int32'})\n",
    "        embeddings.to_csv(file_name, sep=';', index=False)\n",
    "        files.download(file_name)\n",
    "\n",
    "'''\n",
    "data_path ='./books_3000.csv'\n",
    "data = pd.read_csv(data_path, names={'item': int, 'user': int, 'rating': int, 'timestamp': int}, header=0)\n",
    "\n",
    "dg = DataGenerator(data_path)\n",
    "dg.gen_train_test(0.8, seed=42)\n",
    "\n",
    "eg = EmbeddingsGenerator(dg.user_train, data)\n",
    "\n",
    "eg.train(nb_epochs=10, batch_size=16)\n",
    "train_loss, train_accuracy = eg.test(dg.user_train)\n",
    "print('Train set: Loss=%.4f ; Accuracy=%.1f%%' % (train_loss, train_accuracy * 100))\n",
    "test_loss, test_accuracy = eg.test(dg.user_test)\n",
    "print('Test set; Loss=%.4f; Accuracy=%.1f%%' % (test_loss, test_accuracy * 100))\n",
    "eg.save_embeddings('embeddings.csv')\n",
    "'''"
   ]
  },
  {
   "cell_type": "code",
   "execution_count": null,
   "metadata": {
    "ExecuteTime": {
     "end_time": "2020-11-24T14:06:54.181960Z",
     "start_time": "2020-11-24T14:05:58.940Z"
    },
    "id": "EIyiEo1hFdxV"
   },
   "outputs": [],
   "source": [
    "class Embeddings:\n",
    "    def __init__(self, item_embeddings):\n",
    "        self.item_embeddings = item_embeddings\n",
    "    \n",
    "    def size(self):\n",
    "        return self.item_embeddings.shape[1]\n",
    "\n",
    "    def get_embedding_vector(self):\n",
    "        return self.item_embeddings\n",
    "    \n",
    "    def get_embedding(self, item_index):\n",
    "        return self.item_embeddings[item_index]\n",
    "    \n",
    "    def embed(self, item_list):\n",
    "        return np.array([self.get_embeddiing(item) for item in item_list])"
   ]
  },
  {
   "cell_type": "code",
   "execution_count": null,
   "metadata": {
    "ExecuteTime": {
     "end_time": "2020-11-24T14:06:54.182395Z",
     "start_time": "2020-11-24T14:05:58.943Z"
    },
    "id": "8nnpstUcF4cc"
   },
   "outputs": [],
   "source": [
    "def read_file(data_path):\n",
    "    '''\n",
    "    Load data from train.csv or test.csv\n",
    "    '''\n",
    "    data = pd.read_csv(data_path, sep=';')\n",
    "    for col in ['state', 'n_state', 'action_reward']:\n",
    "        data[col] = [np.array([[np.int(k) for k in ee.split('&')] for ee in e.split('|')]) for e in data[col]]\n",
    "    for col in ['state', 'n_state']:\n",
    "        data[col] = [np.array([e[0] for e in l]) for l in data[col]]\n",
    "    \n",
    "    data['action'] = [[e[0] for e in l] for l in data['action_reward']]\n",
    "    data['reward'] = [tuple(e[1] for e in l) for l in data['action_reward']]\n",
    "    data.drop(columns=['action_reward'], inplace=True)\n",
    "    \n",
    "    return data\n",
    "\n",
    "def read_embeddings(embeddings_path):\n",
    "    '''\n",
    "    Load embeddings (a vector for each item)\n",
    "    '''\n",
    "    embeddings = pd.read_csv(embeddings_path, sep=';')\n",
    "    \n",
    "    return np.array([[np.float64(k) for k in e.split('|')] for e in embeddings['vectors']])\n"
   ]
  },
  {
   "cell_type": "markdown",
   "metadata": {
    "id": "ZGvAXnJayWjt"
   },
   "source": [
    "# Environment/Simulator"
   ]
  },
  {
   "cell_type": "code",
   "execution_count": null,
   "metadata": {
    "ExecuteTime": {
     "end_time": "2020-11-24T14:06:54.190942Z",
     "start_time": "2020-11-24T14:05:58.974Z"
    },
    "id": "H00n2XsouByw"
   },
   "outputs": [],
   "source": [
    "class Environment():\n",
    "  def __init__(self, data, embeddings, alpha, gamma, fixed_length):\n",
    "    self.embeddings = embeddings\n",
    "\n",
    "    self.embedded_data = pd.DataFrame()\n",
    "    self.embedded_data['state'] = [np.array([embeddings.get_embedding(item) \n",
    "      for item in row['state']]) for _, row in data.iterrows()]\n",
    "    self.embedded_data['action'] = [np.array([embeddings.get_embedding(item) \n",
    "      for item in row['action']]) for _, row in data.iterrows()]\n",
    "    self.embedded_data['reward'] = data['reward']\n",
    "\n",
    "    self.alpha = alpha # α (alpha) in Equation (1)\n",
    "    self.gamma = gamma # Γ (Gamma) in Equation (4)\n",
    "    self.fixed_length = fixed_length\n",
    "    self.current_state = self.reset()\n",
    "    self.groups = self.get_groups()\n",
    "\n",
    "  def reset(self):\n",
    "    self.init_state = self.embedded_data['state'].sample(1).values[0]\n",
    "    return self.init_state\n",
    "\n",
    "  def step(self, actions):\n",
    "    '''\n",
    "    Compute reward and update state.\n",
    "    Args:\n",
    "      actions: embedded chosen items.\n",
    "    Returns:\n",
    "      cumulated_reward: overall reward.\n",
    "      current_state: updated state.\n",
    "    '''\n",
    "\n",
    "    # '18: Compute overall reward r_t according to Equation (4)'\n",
    "    simulated_rewards, cumulated_reward = self.simulate_rewards(self.current_state.reshape((1, -1)), actions.reshape((1, -1)))\n",
    "\n",
    "    # '11: Set s_t+1 = s_t' <=> self.current_state = self.current_state\n",
    "\n",
    "    for k in range(len(simulated_rewards)): # '12: for k = 1, K do'\n",
    "      if simulated_rewards[k] > 0: # '13: if r_t^k > 0 then'\n",
    "        # '14: Add a_t^k to the end of s_t+1'\n",
    "        self.current_state = np.append(self.current_state, [actions[k]], axis=0)\n",
    "        if self.fixed_length: # '15: Remove the first item of s_t+1'\n",
    "          self.current_state = np.delete(self.current_state, 0, axis=0)\n",
    "\n",
    "    return cumulated_reward, self.current_state\n",
    "\n",
    "  def get_groups(self):\n",
    "    ''' Calculate average state/action value for each group. Equation (3). '''\n",
    "\n",
    "    groups = []\n",
    "    for rewards, group in self.embedded_data.groupby(['reward']):\n",
    "      size = group.shape[0]\n",
    "      states = np.array(list(group['state'].values))\n",
    "      actions = np.array(list(group['action'].values))\n",
    "      groups.append({\n",
    "        'size': size, # N_x in article\n",
    "        'rewards': rewards, # U_x in article (combination of rewards)\n",
    "        'average state': (np.sum(states / np.linalg.norm(states, 2, axis=1)[:, np.newaxis], axis=0) / size).reshape((1, -1)), # s_x^-\n",
    "        'average action': (np.sum(actions / np.linalg.norm(actions, 2, axis=1)[:, np.newaxis], axis=0) / size).reshape((1, -1)) # a_x^-\n",
    "      })\n",
    "    return groups\n",
    "\n",
    "  def simulate_rewards(self, current_state, chosen_actions, reward_type='grouped cosine'):\n",
    "    '''\n",
    "    Calculate simulated rewards.\n",
    "    Args:\n",
    "      current_state: history, list of embedded items.\n",
    "      chosen_actions: embedded chosen items.\n",
    "      reward_type: from ['normal', 'grouped average', 'grouped cosine'].\n",
    "    Returns:\n",
    "      returned_rewards: most probable rewards.\n",
    "      cumulated_reward: probability weighted rewards.\n",
    "    '''\n",
    "\n",
    "    # Equation (1)\n",
    "    def cosine_state_action(s_t, a_t, s_i, a_i):\n",
    "      cosine_state = np.dot(s_t, s_i.T) / (np.linalg.norm(s_t, 2) * np.linalg.norm(s_i, 2))\n",
    "      cosine_action = np.dot(a_t, a_i.T) / (np.linalg.norm(a_t, 2) * np.linalg.norm(a_i, 2))\n",
    "      return (self.alpha * cosine_state + (1 - self.alpha) * cosine_action).reshape((1,))\n",
    "\n",
    "    if reward_type == 'normal':\n",
    "      # Calculate simulated reward in normal way: Equation (2)\n",
    "      probabilities = [cosine_state_action(current_state, chosen_actions, row['state'], row['action'])\n",
    "        for _, row in self.embedded_data.iterrows()]\n",
    "    elif reward_type == 'grouped average':\n",
    "      # Calculate simulated reward by grouped average: Equation (3)\n",
    "      probabilities = np.array([g['size'] for g in self.groups]) *\\\n",
    "        [(self.alpha * (np.dot(current_state, g['average state'].T) / np.linalg.norm(current_state, 2))\\\n",
    "        + (1 - self.alpha) * (np.dot(chosen_actions, g['average action'].T) / np.linalg.norm(chosen_actions, 2)))\n",
    "        for g in self.groups]\n",
    "    elif reward_type == 'grouped cosine':\n",
    "      # Calculate simulated reward by grouped cosine: Equations (1) and (3)\n",
    "      probabilities = [cosine_state_action(current_state, chosen_actions, g['average state'], g['average action'])\n",
    "        for g in self.groups]\n",
    "\n",
    "    # Normalize (sum to 1)\n",
    "    probabilities = np.array(probabilities) / sum(probabilities)\n",
    "\n",
    "    # Get most probable rewards\n",
    "    if reward_type == 'normal':\n",
    "      returned_rewards = self.embedded_data.iloc[np.argmax(probabilities)]['reward']\n",
    "    elif reward_type in ['grouped average', 'grouped cosine']:\n",
    "      returned_rewards = self.groups[np.argmax(probabilities)]['rewards']\n",
    "\n",
    "    # Equation (4)\n",
    "    def overall_reward(rewards, gamma):\n",
    "      return np.sum([gamma**k * reward for k, reward in enumerate(rewards)])\n",
    "\n",
    "    if reward_type in ['normal', 'grouped average']:\n",
    "      # Get cumulated reward: Equation (4)\n",
    "      cumulated_reward = overall_reward(returned_rewards, self.gamma)\n",
    "    elif reward_type == 'grouped cosine':\n",
    "      # Get probability weighted cumulated reward\n",
    "      cumulated_reward = np.sum([p * overall_reward(g['rewards'], self.gamma)\n",
    "        for p, g in zip(probabilities, self.groups)])\n",
    "\n",
    "    return returned_rewards, cumulated_reward"
   ]
  },
  {
   "cell_type": "markdown",
   "metadata": {
    "id": "3-rEdckqygGY"
   },
   "source": [
    "# Actor"
   ]
  },
  {
   "cell_type": "code",
   "execution_count": null,
   "metadata": {
    "ExecuteTime": {
     "end_time": "2020-11-24T14:06:54.191504Z",
     "start_time": "2020-11-24T14:05:58.975Z"
    },
    "id": "-YK3aSNaTouH"
   },
   "outputs": [],
   "source": [
    "class Actor():\n",
    "  ''' Policy function approximator. '''\n",
    "  \n",
    "  def __init__(self, sess, state_space_size, action_space_size, batch_size, ra_length, history_length, embedding_size, tau, learning_rate, scope='actor'):\n",
    "    self.sess = sess\n",
    "    self.state_space_size = state_space_size\n",
    "    self.action_space_size = action_space_size\n",
    "    self.batch_size = batch_size\n",
    "    self.ra_length = ra_length\n",
    "    self.history_length = history_length\n",
    "    self.embedding_size = embedding_size\n",
    "    self.tau = tau\n",
    "    self.learning_rate = learning_rate\n",
    "    self.scope = scope\n",
    "\n",
    "    with tf.variable_scope(self.scope):\n",
    "      # Build Actor network\n",
    "      self.action_weights, self.state, self.sequence_length = self._build_net('estimator_actor')\n",
    "      self.network_params = tf.trainable_variables()\n",
    "\n",
    "      # Build target Actor network\n",
    "      self.target_action_weights, self.target_state, self.target_sequence_length = self._build_net('target_actor')\n",
    "      self.target_network_params = tf.trainable_variables()[len(self.network_params):] # TODO: why sublist [len(x):]? Maybe because its equal to network_params + target_network_params\n",
    "\n",
    "      # Initialize target network weights with network weights (θ^π′ ← θ^π)\n",
    "      self.init_target_network_params = [self.target_network_params[i].assign(self.network_params[i])\n",
    "        for i in range(len(self.target_network_params))]\n",
    "        \n",
    "      # Update target network weights (θ^π′ ← τθ^π + (1 − τ)θ^π′)\n",
    "      self.update_target_network_params = [self.target_network_params[i].assign(\n",
    "        tf.multiply(self.tau, self.network_params[i]) +\n",
    "        tf.multiply(1 - self.tau, self.target_network_params[i]))\n",
    "        for i in range(len(self.target_network_params))]\n",
    "\n",
    "      # Gradient computation from Critic's action_gradients\n",
    "      self.action_gradients = tf.placeholder(tf.float32, [None, self.action_space_size])\n",
    "      gradients = tf.gradients(tf.reshape(self.action_weights, [self.batch_size, self.action_space_size], name='42222222222'),\n",
    "                               self.network_params,\n",
    "                               self.action_gradients)\n",
    "      params_gradients = list(map(lambda x: tf.div(x, self.batch_size * self.action_space_size), gradients))\n",
    "      \n",
    "      # Compute ∇_a.Q(s, a|θ^µ).∇_θ^π.f_θ^π(s)\n",
    "      self.optimizer = tf.train.AdamOptimizer(self.learning_rate).apply_gradients(\n",
    "          zip(params_gradients, self.network_params))\n",
    "\n",
    "  def _build_net(self, scope):\n",
    "    ''' Build the (target) Actor network. '''\n",
    "\n",
    "    def gather_last_output(data, seq_lens):\n",
    "      def cli_value(x, v):\n",
    "        y = tf.constant(v, shape=x.get_shape(), dtype=tf.int64)\n",
    "        x = tf.cast(x, tf.int64)\n",
    "        return tf.where(tf.greater(x, y), x, y)\n",
    "\n",
    "      batch_range = tf.range(tf.cast(tf.shape(data)[0], dtype=tf.int64), dtype=tf.int64)\n",
    "      tmp_end = tf.map_fn(lambda x: cli_value(x, 0), seq_lens - 1, dtype=tf.int64)\n",
    "      indices = tf.stack([batch_range, tmp_end], axis=1)\n",
    "      return tf.gather_nd(data, indices)\n",
    "\n",
    "    with tf.variable_scope(scope):\n",
    "      # Inputs: current state, sequence_length\n",
    "      # Outputs: action weights to compute the score Equation (6)\n",
    "      state = tf.placeholder(tf.float32, [None, self.state_space_size], 'state')\n",
    "      state_ = tf.reshape(state, [-1, self.history_length, self.embedding_size])\n",
    "      sequence_length = tf.placeholder(tf.int32, [None], 'sequence_length')\n",
    "      cell = tf.nn.rnn_cell.GRUCell(self.embedding_size,\n",
    "                                    activation=tf.nn.relu,\n",
    "                                    kernel_initializer=tf.initializers.random_normal(),\n",
    "                                    bias_initializer=tf.zeros_initializer())\n",
    "      outputs, _ = tf.nn.dynamic_rnn(cell, state_, dtype=tf.float32, sequence_length=sequence_length)\n",
    "      last_output = gather_last_output(outputs, sequence_length) # TODO: replace by h\n",
    "      x = tf.keras.layers.Dense(self.ra_length * self.embedding_size)(last_output)\n",
    "      action_weights = tf.reshape(x, [-1, self.ra_length, self.embedding_size])\n",
    "\n",
    "    return action_weights, state, sequence_length\n",
    "\n",
    "  def train(self, state, sequence_length, action_gradients):\n",
    "    '''  Compute ∇_a.Q(s, a|θ^µ).∇_θ^π.f_θ^π(s). '''\n",
    "    self.sess.run(self.optimizer,\n",
    "                  feed_dict={\n",
    "                      self.state: state,\n",
    "                      self.sequence_length: sequence_length,\n",
    "                      self.action_gradients: action_gradients})\n",
    "\n",
    "  def predict(self, state, sequence_length):\n",
    "    return self.sess.run(self.action_weights,\n",
    "                         feed_dict={\n",
    "                             self.state: state,\n",
    "                             self.sequence_length: sequence_length})\n",
    "\n",
    "  def predict_target(self, state, sequence_length):\n",
    "    return self.sess.run(self.target_action_weights,\n",
    "                         feed_dict={\n",
    "                             self.target_state: state,\n",
    "                             self.target_sequence_length: sequence_length})\n",
    "\n",
    "  def init_target_network(self):\n",
    "    self.sess.run(self.init_target_network_params)\n",
    "\n",
    "  def update_target_network(self):\n",
    "    self.sess.run(self.update_target_network_params)\n",
    "    \n",
    "  def get_recommendation_list(self, ra_length, noisy_state, embeddings, target=False):\n",
    "    '''\n",
    "    Algorithm 2\n",
    "    Args:\n",
    "      ra_length: length of the recommendation list.\n",
    "      noisy_state: current/remembered environment state with noise.\n",
    "      embeddings: Embeddings object.\n",
    "      target: boolean to use Actor's network or target network.\n",
    "    Returns:\n",
    "      Recommendation List: list of embedded items as future actions.\n",
    "    '''\n",
    "\n",
    "    def get_score(weights, embedding, batch_size):\n",
    "      '''\n",
    "      Equation (6)\n",
    "      Args:\n",
    "        weights: w_t^k shape=(embedding_size,).\n",
    "        embedding: e_i shape=(embedding_size,).\n",
    "      Returns:\n",
    "        score of the item i: score_i=w_t^k.e_i^T shape=(1,).\n",
    "      '''\n",
    "      ret = np.dot(weights, embedding.T)\n",
    "      return ret\n",
    "\n",
    "    batch_size = noisy_state.shape[0]\n",
    "\n",
    "    # '1: Generate w_t = {w_t^1, ..., w_t^K} according to Equation (5)'\n",
    "    method = self.predict_target if target else self.predict\n",
    "    weights = method(noisy_state, [ra_length] * batch_size)\n",
    "\n",
    "    # '3: Score items in I according to Equation (6)'\n",
    "    scores = np.array([[[get_score(weights[i][k], embedding, batch_size)\n",
    "      for embedding in embeddings.get_embedding_vector()]\n",
    "      for k in range(ra_length)]\n",
    "      for i in range(batch_size)])\n",
    "\n",
    "    # '8: return a_t'\n",
    "    return np.array([[embeddings.get_embedding(np.argmax(scores[i][k]))\n",
    "      for k in range(ra_length)]\n",
    "      for i in range(batch_size)])"
   ]
  },
  {
   "cell_type": "markdown",
   "metadata": {
    "id": "lVAPvO0Nyyy3"
   },
   "source": [
    "# Critic"
   ]
  },
  {
   "cell_type": "code",
   "execution_count": null,
   "metadata": {
    "ExecuteTime": {
     "end_time": "2020-11-24T14:06:54.192000Z",
     "start_time": "2020-11-24T14:05:58.977Z"
    },
    "id": "jj3yEhnqy0Iy"
   },
   "outputs": [],
   "source": [
    "class Critic():\n",
    "  ''' Value function approximator. '''\n",
    "  \n",
    "  def __init__(self, sess, state_space_size, action_space_size, history_length, embedding_size, tau, learning_rate, scope='critic'):\n",
    "    self.sess = sess\n",
    "    self.state_space_size = state_space_size\n",
    "    self.action_space_size = action_space_size\n",
    "    self.history_length = history_length\n",
    "    self.embedding_size = embedding_size\n",
    "    self.tau = tau\n",
    "    self.learning_rate = learning_rate\n",
    "    self.scope = scope\n",
    "\n",
    "    with tf.variable_scope(self.scope):\n",
    "      # Build Critic network\n",
    "      self.critic_Q_value, self.state, self.action, self.sequence_length = self._build_net('estimator_critic')\n",
    "      self.network_params = tf.get_collection(tf.GraphKeys.TRAINABLE_VARIABLES, scope='estimator_critic')\n",
    "\n",
    "      # Build target Critic network\n",
    "      self.target_Q_value, self.target_state, self.target_action, self.target_sequence_length = self._build_net('target_critic')\n",
    "      self.target_network_params = tf.get_collection(tf.GraphKeys.TRAINABLE_VARIABLES, scope='target_critic')\n",
    "\n",
    "      # Initialize target network weights with network weights (θ^µ′ ← θ^µ)\n",
    "      self.init_target_network_params = [self.target_network_params[i].assign(self.network_params[i])\n",
    "        for i in range(len(self.target_network_params))]\n",
    "\n",
    "      # Update target network weights (θ^µ′ ← τθ^µ + (1 − τ)θ^µ′)\n",
    "      self.update_target_network_params = [self.target_network_params[i].assign(\n",
    "        tf.multiply(self.tau, self.network_params[i]) +\n",
    "        tf.multiply(1 - self.tau, self.target_network_params[i]))\n",
    "        for i in range(len(self.target_network_params))]\n",
    "\n",
    "      # Minimize MSE between Critic's and target Critic's outputed Q-values\n",
    "      self.expected_reward = tf.placeholder(tf.float32, [None, 1])\n",
    "      self.loss = tf.reduce_mean(tf.squared_difference(self.expected_reward, self.critic_Q_value))\n",
    "      self.optimizer = tf.train.AdamOptimizer(self.learning_rate).minimize(self.loss)\n",
    "\n",
    "      # Compute ∇_a.Q(s, a|θ^µ)\n",
    "      self.action_gradients = tf.gradients(self.critic_Q_value, self.action)\n",
    "\n",
    "  def _build_net(self, scope):\n",
    "    ''' Build the (target) Critic network. '''\n",
    "\n",
    "    def gather_last_output(data, seq_lens):\n",
    "      def cli_value(x, v):\n",
    "        y = tf.constant(v, shape=x.get_shape(), dtype=tf.int64)\n",
    "        return tf.where(tf.greater(x, y), x, y)\n",
    "\n",
    "      this_range = tf.range(tf.cast(tf.shape(seq_lens)[0], dtype=tf.int64), dtype=tf.int64)\n",
    "      tmp_end = tf.map_fn(lambda x: cli_value(x, 0), seq_lens - 1, dtype=tf.int64)\n",
    "      indices = tf.stack([this_range, tmp_end], axis=1)\n",
    "      return tf.gather_nd(data, indices)\n",
    "\n",
    "    with tf.variable_scope(scope):\n",
    "      # Inputs: current state, current action\n",
    "      # Outputs: predicted Q-value\n",
    "      state = tf.placeholder(tf.float32, [None, self.state_space_size], 'state')\n",
    "      state_ = tf.reshape(state, [-1, self.history_length, self.embedding_size])\n",
    "      action = tf.placeholder(tf.float32, [None, self.action_space_size], 'action')\n",
    "      sequence_length = tf.placeholder(tf.int64, [None], name='critic_sequence_length')\n",
    "      cell = tf.nn.rnn_cell.GRUCell(self.history_length,\n",
    "                                    activation=tf.nn.relu,\n",
    "                                    kernel_initializer=tf.initializers.random_normal(),\n",
    "                                    bias_initializer=tf.zeros_initializer())\n",
    "      predicted_state, _ = tf.nn.dynamic_rnn(cell, state_, dtype=tf.float32, sequence_length=sequence_length)\n",
    "      predicted_state = gather_last_output(predicted_state, sequence_length)\n",
    "\n",
    "      inputs = tf.concat([predicted_state, action], axis=-1)\n",
    "      layer1 = tf.layers.Dense(32, activation=tf.nn.relu)(inputs)\n",
    "      layer2 = tf.layers.Dense(16, activation=tf.nn.relu)(layer1)\n",
    "      critic_Q_value = tf.layers.Dense(1)(layer2)\n",
    "      return critic_Q_value, state, action, sequence_length\n",
    "\n",
    "  def train(self, state, action, sequence_length, expected_reward):\n",
    "    ''' Minimize MSE between expected reward and target Critic's Q-value. '''\n",
    "    return self.sess.run([self.critic_Q_value, self.loss, self.optimizer],\n",
    "                         feed_dict={\n",
    "                             self.state: state,\n",
    "                             self.action: action,\n",
    "                             self.sequence_length: sequence_length,\n",
    "                             self.expected_reward: expected_reward})\n",
    "\n",
    "  def predict(self, state, action, sequence_length):\n",
    "    ''' Returns Critic's predicted Q-value. '''\n",
    "    return self.sess.run(self.critic_Q_value,\n",
    "                         feed_dict={\n",
    "                             self.state: state,\n",
    "                             self.action: action,\n",
    "                             self.sequence_length: sequence_length})\n",
    "\n",
    "  def predict_target(self, state, action, sequence_length):\n",
    "    ''' Returns target Critic's predicted Q-value. '''\n",
    "    return self.sess.run(self.target_Q_value,\n",
    "                         feed_dict={\n",
    "                             self.target_state: state,\n",
    "                             self.target_action: action,\n",
    "                             self.target_sequence_length: sequence_length})\n",
    "\n",
    "  def get_action_gradients(self, state, action, sequence_length):\n",
    "    ''' Returns ∇_a.Q(s, a|θ^µ). '''\n",
    "    return np.array(self.sess.run(self.action_gradients,\n",
    "                         feed_dict={\n",
    "                             self.state: state,\n",
    "                             self.action: action,\n",
    "                             self.sequence_length: sequence_length})[0])\n",
    "\n",
    "  def init_target_network(self):\n",
    "    self.sess.run(self.init_target_network_params)\n",
    "\n",
    "  def update_target_network(self):\n",
    "    self.sess.run(self.update_target_network_params)"
   ]
  },
  {
   "cell_type": "markdown",
   "metadata": {
    "id": "KNP3jdofyh7M"
   },
   "source": [
    "# Replay"
   ]
  },
  {
   "cell_type": "code",
   "execution_count": null,
   "metadata": {
    "ExecuteTime": {
     "end_time": "2020-11-24T14:06:54.192486Z",
     "start_time": "2020-11-24T14:05:58.979Z"
    },
    "id": "GvIqtE2YzoUa"
   },
   "outputs": [],
   "source": [
    "class ReplayMemory():\n",
    "  ''' Replay memory D in article. '''\n",
    "  \n",
    "  def __init__(self, buffer_size):\n",
    "    self.buffer_size = buffer_size\n",
    "    # self.buffer = [[row['state'], row['action'], row['reward'], row['n_state']] for _, row in data.iterrows()][-self.buffer_size:] TODO: empty or not?\n",
    "    self.buffer = []\n",
    "\n",
    "  def add(self, state, action, reward, n_state):\n",
    "    self.buffer.append([state, action, reward, n_state])\n",
    "    if len(self.buffer) > self.buffer_size:\n",
    "      self.buffer.pop(0)\n",
    "\n",
    "  def size(self):\n",
    "    return len(self.buffer)\n",
    "\n",
    "  def sample_batch(self, batch_size):\n",
    "    return random.sample(self.buffer, batch_size)"
   ]
  },
  {
   "cell_type": "code",
   "execution_count": null,
   "metadata": {
    "ExecuteTime": {
     "end_time": "2020-11-24T14:06:54.192985Z",
     "start_time": "2020-11-24T14:05:58.980Z"
    },
    "id": "7x-ekweNfStD"
   },
   "outputs": [],
   "source": [
    "def experience_replay(replay_memory, batch_size, actor, critic, embeddings, ra_length, state_space_size, action_space_size, discount_factor):\n",
    "  '''\n",
    "  Experience replay.\n",
    "  Args:\n",
    "    replay_memory: replay memory D in article.\n",
    "    batch_size: sample size.\n",
    "    actor: Actor network.\n",
    "    critic: Critic network.\n",
    "    embeddings: Embeddings object.\n",
    "    state_space_size: dimension of states.\n",
    "    action_space_size: dimensions of actions.\n",
    "  Returns:\n",
    "    Best Q-value, loss of Critic network for printing/recording purpose.\n",
    "  '''\n",
    "\n",
    "  # '22: Sample minibatch of N transitions (s, a, r, s′) from D'\n",
    "  samples = replay_memory.sample_batch(batch_size)\n",
    "  states = np.array([s[0] for s in samples])\n",
    "  actions = np.array([s[1] for s in samples])\n",
    "  rewards = np.array([s[2] for s in samples])\n",
    "  n_states = np.array([s[3] for s in samples]).reshape(-1, state_space_size)\n",
    "\n",
    "  # '23: Generate a′ by target Actor network according to Algorithm 2'\n",
    "  n_actions = actor.get_recommendation_list(ra_length, states, embeddings, target=True).reshape(-1, action_space_size)\n",
    "\n",
    "  # Calculate predicted Q′(s′, a′|θ^µ′) value\n",
    "  target_Q_value = critic.predict_target(n_states, n_actions, [ra_length] * batch_size)\n",
    "\n",
    "  # '24: Set y = r + γQ′(s′, a′|θ^µ′)'\n",
    "  expected_rewards = rewards + discount_factor * target_Q_value\n",
    "  \n",
    "  # '25: Update Critic by minimizing (y − Q(s, a|θ^µ))²'\n",
    "  critic_Q_value, critic_loss, _ = critic.train(states, actions, [ra_length] * batch_size, expected_rewards)\n",
    "  \n",
    "  # '26: Update the Actor using the sampled policy gradient'\n",
    "  action_gradients = critic.get_action_gradients(states, n_actions, [ra_length] * batch_size)\n",
    "  actor.train(states, [ra_length] * batch_size, action_gradients)\n",
    "\n",
    "  # '27: Update the Critic target networks'\n",
    "  critic.update_target_network()\n",
    "\n",
    "  # '28: Update the Actor target network'\n",
    "  actor.update_target_network()\n",
    "\n",
    "  return np.amax(critic_Q_value), critic_loss"
   ]
  },
  {
   "cell_type": "markdown",
   "metadata": {
    "id": "QzYw4cAhzYDF"
   },
   "source": [
    "# Training"
   ]
  },
  {
   "cell_type": "code",
   "execution_count": null,
   "metadata": {
    "ExecuteTime": {
     "end_time": "2020-11-24T14:06:54.193632Z",
     "start_time": "2020-11-24T14:05:58.982Z"
    },
    "id": "YRDXsrsMy69k"
   },
   "outputs": [],
   "source": [
    "class OrnsteinUhlenbeckNoise:\n",
    "  ''' Noise for Actor predictions. '''\n",
    "  def __init__(self, action_space_size, mu=0, theta=0.5, sigma=0.2):\n",
    "    self.action_space_size = action_space_size\n",
    "    self.mu = mu\n",
    "    self.theta = theta\n",
    "    self.sigma = sigma\n",
    "    self.state = np.ones(self.action_space_size) * self.mu\n",
    "\n",
    "  def get(self):\n",
    "    self.state += self.theta * (self.mu - self.state) + self.sigma * np.random.rand(self.action_space_size)\n",
    "    return self.state\n",
    "\n",
    "def train(sess, environment, actor, critic, embeddings, history_length, ra_length, buffer_size, batch_size, discount_factor, nb_episodes, filename_summary):\n",
    "  ''' Algorithm 3 in article. '''\n",
    "\n",
    "  # Set up summary operators\n",
    "  def build_summaries():\n",
    "    episode_reward = tf.Variable(0.)\n",
    "    tf.summary.scalar('reward', episode_reward)\n",
    "    episode_max_Q = tf.Variable(0.)\n",
    "    tf.summary.scalar('max_Q_value', episode_max_Q)\n",
    "    critic_loss = tf.Variable(0.)\n",
    "    tf.summary.scalar('critic_loss', critic_loss)\n",
    "\n",
    "    summary_vars = [episode_reward, episode_max_Q, critic_loss]\n",
    "    summary_ops = tf.summary.merge_all()\n",
    "    return summary_ops, summary_vars\n",
    "\n",
    "  summary_ops, summary_vars = build_summaries()\n",
    "  sess.run(tf.global_variables_initializer())\n",
    "  writer = tf.summary.FileWriter(filename_summary, sess.graph)\n",
    "\n",
    "  # '2: Initialize target network f′ and Q′'\n",
    "  actor.init_target_network()\n",
    "  critic.init_target_network()\n",
    "\n",
    "  # '3: Initialize the capacity of replay memory D'\n",
    "  replay_memory = ReplayMemory(buffer_size) # Memory D in article\n",
    "  replay = False\n",
    "\n",
    "\n",
    "  start_time = time.time()\n",
    "  for i_session in range(nb_episodes): # '4: for session = 1, M do'\n",
    "    session_reward = 0\n",
    "    session_Q_value = 0\n",
    "    session_critic_loss = 0\n",
    "\n",
    "    # '5: Reset the item space I' is useless because unchanged.\n",
    "\n",
    "    states = environment.reset() # '6: Initialize state s_0 from previous sessions'\n",
    "    \n",
    "    if (i_session + 1) % 10 == 0: # Update average parameters every 10 episodes\n",
    "      environment.groups = environment.get_groups()\n",
    "      \n",
    "    exploration_noise = OrnsteinUhlenbeckNoise(history_length * embeddings.size())\n",
    "\n",
    "    for t in range(nb_rounds): # '7: for t = 1, T do'\n",
    "      # '8: Stage 1: Transition Generating Stage'\n",
    "\n",
    "      # '9: Select an action a_t = {a_t^1, ..., a_t^K} according to Algorithm 2'\n",
    "      actions = actor.get_recommendation_list(\n",
    "          ra_length,\n",
    "          states.reshape(1, -1), # TODO + exploration_noise.get().reshape(1, -1),\n",
    "          embeddings).reshape(ra_length, embeddings.size())\n",
    "\n",
    "      # '10: Execute action a_t and observe the reward list {r_t^1, ..., r_t^K} for each item in a_t'\n",
    "      rewards, next_states = environment.step(actions)\n",
    "\n",
    "      # '19: Store transition (s_t, a_t, r_t, s_t+1) in D'\n",
    "      replay_memory.add(states.reshape(history_length * embeddings.size()),\n",
    "                        actions.reshape(ra_length * embeddings.size()),\n",
    "                        [rewards],\n",
    "                        next_states.reshape(history_length * embeddings.size()))\n",
    "\n",
    "      states = next_states # '20: Set s_t = s_t+1'\n",
    "\n",
    "      session_reward += rewards\n",
    "      \n",
    "      # '21: Stage 2: Parameter Updating Stage'\n",
    "      if replay_memory.size() >= batch_size: # Experience replay\n",
    "        replay = True\n",
    "        replay_Q_value, critic_loss = experience_replay(replay_memory, batch_size,\n",
    "          actor, critic, embeddings, ra_length, history_length * embeddings.size(),\n",
    "          ra_length * embeddings.size(), discount_factor)\n",
    "        session_Q_value += replay_Q_value\n",
    "        session_critic_loss += critic_loss\n",
    "\n",
    "      summary_str = sess.run(summary_ops,\n",
    "                             feed_dict={summary_vars[0]: session_reward,\n",
    "                                        summary_vars[1]: session_Q_value,\n",
    "                                        summary_vars[2]: session_critic_loss})\n",
    "      \n",
    "      writer.add_summary(summary_str, i_session)\n",
    "\n",
    "      '''\n",
    "      print(state_to_items(embeddings.embed(data['state'][0]), actor, ra_length, embeddings),\n",
    "            state_to_items(embeddings.embed(data['state'][0]), actor, ra_length, embeddings, True))\n",
    "      '''\n",
    "\n",
    "    str_loss = str('Loss=%0.4f' % session_critic_loss)\n",
    "    print(('Episode %d/%d Reward=%d Time=%ds ' + (str_loss if replay else 'No replay')) % (i_session + 1, nb_episodes, session_reward, time.time() - start_time))\n",
    "    start_time = time.time()\n",
    "\n",
    "  writer.close()\n",
    "  tf.train.Saver().save(sess, 'models.h5', write_meta_graph=False)"
   ]
  },
  {
   "cell_type": "markdown",
   "metadata": {
    "id": "Cx_5zk2hll5e"
   },
   "source": [
    "## Data"
   ]
  },
  {
   "cell_type": "code",
   "execution_count": null,
   "metadata": {
    "ExecuteTime": {
     "end_time": "2020-11-24T14:06:54.194079Z",
     "start_time": "2020-11-24T14:05:58.983Z"
    },
    "id": "w8vv6bRi5_ro"
   },
   "outputs": [],
   "source": [
    "# Hyperparameters\n",
    "history_length = 12 # N in article\n",
    "ra_length = 4 # K in article\n",
    "discount_factor = 0.99 # Gamma in Bellman equation\n",
    "actor_lr = 0.0001\n",
    "critic_lr = 0.001\n",
    "tau = 0.001 # τ in Algorithm 3\n",
    "batch_size = 64\n",
    "nb_episodes = 100\n",
    "nb_rounds = 50\n",
    "filename_summary = 'summary.txt'\n",
    "alpha = 0.5 # α (alpha) in Equation (1)\n",
    "gamma = 0.9 # Γ (Gamma) in Equation (4)\n",
    "buffer_size = 1000000 # Size of replay memory D in article\n",
    "fixed_length = True # Fixed memory length\n",
    "\n",
    "dg = DataGenerator('ml-100k/u.data', 'ml-100k/u.item')\n",
    "dg.gen_train_test(0.8, seed=42)\n",
    "\n",
    "dg.write_csv('train.csv', dg.train, nb_states=[history_length], nb_actions=[ra_length])\n",
    "dg.write_csv('test.csv', dg.test, nb_states=[history_length], nb_actions=[ra_length])\n",
    "\n",
    "data = read_file('train.csv')"
   ]
  },
  {
   "cell_type": "code",
   "execution_count": null,
   "metadata": {
    "ExecuteTime": {
     "end_time": "2020-11-24T14:06:54.194521Z",
     "start_time": "2020-11-24T14:05:58.985Z"
    },
    "colab": {
     "base_uri": "https://localhost:8080/"
    },
    "id": "AW6Ejz__IU4H",
    "outputId": "1d1b5619-bb3b-45e2-d0f6-1c97ba2afc3c"
   },
   "outputs": [],
   "source": [
    "data.iloc[0,:]"
   ]
  },
  {
   "cell_type": "code",
   "execution_count": null,
   "metadata": {
    "ExecuteTime": {
     "end_time": "2020-11-24T14:06:54.194928Z",
     "start_time": "2020-11-24T14:05:58.986Z"
    },
    "colab": {
     "base_uri": "https://localhost:8080/",
     "height": 589
    },
    "id": "wpGrfOrnaoRe",
    "outputId": "ff94b89c-2865-4fdf-9853-2eca41d198e5"
   },
   "outputs": [],
   "source": [
    "data"
   ]
  },
  {
   "cell_type": "code",
   "execution_count": null,
   "metadata": {
    "ExecuteTime": {
     "end_time": "2020-11-24T14:06:54.195364Z",
     "start_time": "2020-11-24T14:05:58.987Z"
    },
    "id": "1w3W24YkDAU3"
   },
   "outputs": [],
   "source": [
    "test = read_file('test.csv')"
   ]
  },
  {
   "cell_type": "code",
   "execution_count": null,
   "metadata": {
    "ExecuteTime": {
     "end_time": "2020-11-24T14:06:54.196038Z",
     "start_time": "2020-11-24T14:05:58.988Z"
    },
    "colab": {
     "base_uri": "https://localhost:8080/"
    },
    "id": "BDy_gvq3DECs",
    "outputId": "2491d6a1-9063-47e9-d00b-ec0405144fbf"
   },
   "outputs": [],
   "source": [
    "test.loc[0,:]['state']"
   ]
  },
  {
   "cell_type": "code",
   "execution_count": null,
   "metadata": {
    "ExecuteTime": {
     "end_time": "2020-11-24T14:06:54.196934Z",
     "start_time": "2020-11-24T14:05:58.990Z"
    },
    "colab": {
     "base_uri": "https://localhost:8080/"
    },
    "id": "UKKBJ5qseBJh",
    "outputId": "3b21a11f-b092-4a99-ec32-eb8a2771832c"
   },
   "outputs": [],
   "source": [
    "test.loc[0,:]['n_state']"
   ]
  },
  {
   "cell_type": "code",
   "execution_count": null,
   "metadata": {
    "ExecuteTime": {
     "end_time": "2020-11-24T14:06:54.197473Z",
     "start_time": "2020-11-24T14:05:58.991Z"
    },
    "colab": {
     "base_uri": "https://localhost:8080/"
    },
    "id": "hy8UrfmbeFuL",
    "outputId": "7cb7d2ce-9e47-451e-e847-f39c8fd8ecf4"
   },
   "outputs": [],
   "source": [
    "test.loc[0,:]"
   ]
  },
  {
   "cell_type": "code",
   "execution_count": null,
   "metadata": {
    "ExecuteTime": {
     "end_time": "2020-11-24T14:06:54.198146Z",
     "start_time": "2020-11-24T14:05:58.992Z"
    },
    "colab": {
     "base_uri": "https://localhost:8080/"
    },
    "id": "Lpw_eL7ZDSB6",
    "outputId": "8a3679b2-d1c8-428c-a581-5e9a8181aa70"
   },
   "outputs": [],
   "source": [
    "dg"
   ]
  },
  {
   "cell_type": "code",
   "execution_count": null,
   "metadata": {
    "ExecuteTime": {
     "end_time": "2020-11-24T14:06:54.198666Z",
     "start_time": "2020-11-24T14:05:58.994Z"
    },
    "colab": {
     "base_uri": "https://localhost:8080/",
     "height": 216
    },
    "id": "r-0hv_m_kxwb",
    "outputId": "dfda9a43-3b5e-496c-f5a6-486df951661d"
   },
   "outputs": [],
   "source": [
    "dg.user_train -1"
   ]
  },
  {
   "cell_type": "markdown",
   "metadata": {
    "id": "m-aa79rvlpWH"
   },
   "source": [
    "## Embeddings"
   ]
  },
  {
   "cell_type": "code",
   "execution_count": null,
   "metadata": {
    "ExecuteTime": {
     "end_time": "2020-11-24T14:06:54.199214Z",
     "start_time": "2020-11-24T14:05:58.995Z"
    },
    "id": "FPcCy7fuMf-6"
   },
   "outputs": [],
   "source": [
    "eg = EmbeddingsGenerator(dg.user_train, pd.read_csv('ml-100k/u.data', sep='\\t', names=['userId', 'itemId', 'rating', 'timestamp']))"
   ]
  },
  {
   "cell_type": "code",
   "execution_count": null,
   "metadata": {
    "ExecuteTime": {
     "end_time": "2020-11-24T14:06:54.199894Z",
     "start_time": "2020-11-24T14:05:58.996Z"
    },
    "colab": {
     "base_uri": "https://localhost:8080/"
    },
    "id": "XSD1JWgSMx_P",
    "outputId": "ff2acdc0-a7c1-4338-81d0-d07258a4969a"
   },
   "outputs": [],
   "source": [
    "len(dg.user_train)"
   ]
  },
  {
   "cell_type": "code",
   "execution_count": null,
   "metadata": {
    "ExecuteTime": {
     "end_time": "2020-11-24T14:06:54.201029Z",
     "start_time": "2020-11-24T14:05:58.998Z"
    },
    "colab": {
     "base_uri": "https://localhost:8080/"
    },
    "id": "vZD3r9F3NZcJ",
    "outputId": "b8d1dee7-ee5e-42bc-e8b7-00ff73ec4a20"
   },
   "outputs": [],
   "source": [
    "dg.user_train[:10]"
   ]
  },
  {
   "cell_type": "code",
   "execution_count": null,
   "metadata": {
    "ExecuteTime": {
     "end_time": "2020-11-24T14:06:54.201843Z",
     "start_time": "2020-11-24T14:05:58.999Z"
    },
    "colab": {
     "base_uri": "https://localhost:8080/"
    },
    "id": "L9ltzl-TMg24",
    "outputId": "a8f7bdd7-1077-42f1-9ee0-d2d3b9bf57e4"
   },
   "outputs": [],
   "source": [
    "eg.generate_input(389)[0]"
   ]
  },
  {
   "cell_type": "code",
   "execution_count": null,
   "metadata": {
    "ExecuteTime": {
     "end_time": "2020-11-24T14:06:54.202604Z",
     "start_time": "2020-11-24T14:05:59.000Z"
    },
    "colab": {
     "base_uri": "https://localhost:8080/"
    },
    "id": "XJiV1TmPNfEJ",
    "outputId": "9071f990-3925-4302-d94a-b80b0175da86"
   },
   "outputs": [],
   "source": [
    "eg.generate_input(389)[1]"
   ]
  },
  {
   "cell_type": "code",
   "execution_count": null,
   "metadata": {
    "ExecuteTime": {
     "end_time": "2020-11-24T14:06:54.203409Z",
     "start_time": "2020-11-24T14:05:59.002Z"
    },
    "colab": {
     "base_uri": "https://localhost:8080/",
     "height": 1000
    },
    "id": "ezsuxZbllgDg",
    "outputId": "d4451a4c-709d-4319-a33a-e1738f64b347"
   },
   "outputs": [],
   "source": [
    "if True: # Generate embeddings?\n",
    "  eg = EmbeddingsGenerator(dg.user_train, pd.read_csv('ml-100k/u.data', sep='\\t', names=['userId', 'itemId', 'rating', 'timestamp']))\n",
    "  eg.train(nb_epochs=10)\n",
    "  train_loss, train_accuracy = eg.test(dg.user_train)\n",
    "  print('Train set: Loss=%.4f ; Accuracy=%.1f%%' % (train_loss, train_accuracy * 100))\n",
    "  test_loss, test_accuracy = eg.test(dg.user_test)\n",
    "  print('Test set: Loss=%.4f ; Accuracy=%.1f%%' % (test_loss, test_accuracy * 100))\n",
    "  eg.save_embeddings('./embeddings.csv')"
   ]
  },
  {
   "cell_type": "code",
   "execution_count": null,
   "metadata": {
    "ExecuteTime": {
     "end_time": "2020-11-24T14:06:54.204258Z",
     "start_time": "2020-11-24T14:05:59.003Z"
    },
    "id": "7UI61hVlyQLS"
   },
   "outputs": [],
   "source": [
    "files.upload()"
   ]
  },
  {
   "cell_type": "code",
   "execution_count": null,
   "metadata": {
    "ExecuteTime": {
     "end_time": "2020-11-24T14:06:54.205082Z",
     "start_time": "2020-11-24T14:05:59.004Z"
    },
    "colab": {
     "base_uri": "https://localhost:8080/",
     "height": 468
    },
    "id": "wurA3IXNliMy",
    "outputId": "8e9d2153-d180-4ebb-b9f3-a24a1fc9ca25"
   },
   "outputs": [],
   "source": [
    "embeddings = Embeddings(read_embeddings('embeddings.csv'))\n",
    "\n",
    "state_space_size = embeddings.size() * history_length\n",
    "action_space_size = embeddings.size() * ra_length"
   ]
  },
  {
   "cell_type": "code",
   "execution_count": null,
   "metadata": {
    "ExecuteTime": {
     "end_time": "2020-11-24T14:06:54.205919Z",
     "start_time": "2020-11-24T14:05:59.006Z"
    },
    "id": "RP4vzcHwOmbP"
   },
   "outputs": [],
   "source": [
    "environment = Environment(data, embeddings, alpha, gamma, fixed_length)\n",
    "\n",
    "tf.reset_default_graph() # For multiple consecutive executions\n",
    "\n",
    "sess = tf.Session()\n",
    "# '1: Initialize actor network f_θ^π and critic network Q(s, a|θ^µ) with random weights'\n",
    "actor = Actor(sess, state_space_size, action_space_size, batch_size, ra_length, history_length, embeddings.size(), tau, actor_lr)\n",
    "critic = Critic(sess, state_space_size, action_space_size, history_length, embeddings.size(), tau, critic_lr)\n",
    "\n",
    "train(sess, environment, actor, critic, embeddings, history_length, ra_length, buffer_size, batch_size, discount_factor, nb_episodes, filename_summary)"
   ]
  },
  {
   "cell_type": "markdown",
   "metadata": {
    "id": "ZOnK_UxHzaPa"
   },
   "source": [
    "# Testing"
   ]
  },
  {
   "cell_type": "code",
   "execution_count": null,
   "metadata": {
    "ExecuteTime": {
     "end_time": "2020-11-24T14:06:54.206786Z",
     "start_time": "2020-11-24T14:05:59.007Z"
    },
    "id": "ZsJ0klBBSSXn"
   },
   "outputs": [],
   "source": [
    "dict_embeddings = {}\n",
    "for i, item in enumerate(embeddings.get_embedding_vector()):\n",
    "  str_item = str(item)\n",
    "  assert(str_item not in dict_embeddings)\n",
    "  dict_embeddings[str_item] = i"
   ]
  },
  {
   "cell_type": "code",
   "execution_count": null,
   "metadata": {
    "ExecuteTime": {
     "end_time": "2020-11-24T14:06:54.207558Z",
     "start_time": "2020-11-24T14:05:59.008Z"
    },
    "id": "e-LsmlHnyouJ"
   },
   "outputs": [],
   "source": [
    "def state_to_items(state, actor, ra_length, embeddings, dict_embeddings, target=False):\n",
    "  return [dict_embeddings[str(action)]\n",
    "          for action in actor.get_recommendation_list(ra_length, np.array(state).reshape(1, -1), embeddings, target).reshape(ra_length, embeddings.size())]"
   ]
  },
  {
   "cell_type": "code",
   "execution_count": null,
   "metadata": {
    "ExecuteTime": {
     "end_time": "2020-11-24T14:06:54.208322Z",
     "start_time": "2020-11-24T14:05:59.010Z"
    },
    "id": "UnCn8bf58uAP"
   },
   "outputs": [],
   "source": [
    "def test_actor(actor, test_df, embeddings, dict_embeddings, ra_length, history_length, target=False, nb_rounds=1):\n",
    "  ratings = []\n",
    "  unknown = 0\n",
    "  random_seen = []\n",
    "  for _ in range(nb_rounds):\n",
    "    for i in range(len(test_df)):\n",
    "      history_sample = list(test_df[i].sample(history_length)['itemId'])\n",
    "      recommendation = state_to_items(embeddings.embed(history_sample), actor, ra_length, embeddings, dict_embeddings, target)\n",
    "      for item in recommendation:\n",
    "        l = list(test_df[i].loc[test_df[i]['itemId'] == item]['rating'])\n",
    "        assert(len(l) < 2)\n",
    "        if len(l) == 0:\n",
    "          unknown += 1\n",
    "        else:\n",
    "          ratings.append(l[0])\n",
    "      for item in history_sample:\n",
    "        random_seen.append(list(test_df[i].loc[test_df[i]['itemId'] == item]['rating'])[0])\n",
    "\n",
    "  return ratings, unknown, random_seen"
   ]
  },
  {
   "cell_type": "markdown",
   "metadata": {
    "id": "i0j3nHjUAP24"
   },
   "source": [
    "## Train set"
   ]
  },
  {
   "cell_type": "markdown",
   "metadata": {
    "id": "OBZr_opifZss"
   },
   "source": [
    "#### Target = False"
   ]
  },
  {
   "cell_type": "code",
   "execution_count": null,
   "metadata": {
    "ExecuteTime": {
     "end_time": "2020-11-24T14:06:54.209124Z",
     "start_time": "2020-11-24T14:05:59.012Z"
    },
    "colab": {
     "base_uri": "https://localhost:8080/",
     "height": 34
    },
    "id": "vgqFYAsd8W-S",
    "outputId": "2fb4f8f4-69f7-419c-f5b5-b9d3c4938212"
   },
   "outputs": [],
   "source": [
    "ratings, unknown, random_seen = test_actor(actor, dg.train, embeddings, dict_embeddings, ra_length, history_length, target=False, nb_rounds=10)\n",
    "print('%0.1f%% unknown' % (100 * unknown / (len(ratings) + unknown)))"
   ]
  },
  {
   "cell_type": "code",
   "execution_count": null,
   "metadata": {
    "ExecuteTime": {
     "end_time": "2020-11-24T14:06:54.209874Z",
     "start_time": "2020-11-24T14:05:59.013Z"
    },
    "colab": {
     "base_uri": "https://localhost:8080/",
     "height": 281
    },
    "id": "IGetmkeD95rP",
    "outputId": "55ffa85b-f981-4ce0-b2ca-33d6bcd22c12"
   },
   "outputs": [],
   "source": [
    "plt.subplot(1, 2, 1)\n",
    "plt.hist(ratings)\n",
    "plt.title('Predictions ; Mean = %.4f' % (np.mean(ratings)))\n",
    "plt.subplot(1, 2, 2)\n",
    "plt.hist(random_seen)\n",
    "plt.title('Random ; Mean = %.4f' % (np.mean(random_seen)))\n",
    "plt.show()"
   ]
  },
  {
   "cell_type": "markdown",
   "metadata": {
    "id": "6FPKh8gafdcn"
   },
   "source": [
    "#### Target = True"
   ]
  },
  {
   "cell_type": "code",
   "execution_count": null,
   "metadata": {
    "ExecuteTime": {
     "end_time": "2020-11-24T14:06:54.210669Z",
     "start_time": "2020-11-24T14:05:59.014Z"
    },
    "colab": {
     "base_uri": "https://localhost:8080/",
     "height": 34
    },
    "id": "VvjYl_LTfGi9",
    "outputId": "ef427de1-7ef5-45cd-d02f-8f00979f54d3"
   },
   "outputs": [],
   "source": [
    "ratings, unknown, random_seen = test_actor(actor, dg.train, embeddings, dict_embeddings, ra_length, history_length, target=True, nb_rounds=10)\n",
    "print('%0.1f%% unknown' % (100 * unknown / (len(ratings) + unknown)))"
   ]
  },
  {
   "cell_type": "code",
   "execution_count": null,
   "metadata": {
    "ExecuteTime": {
     "end_time": "2020-11-24T14:06:54.211412Z",
     "start_time": "2020-11-24T14:05:59.016Z"
    },
    "colab": {
     "base_uri": "https://localhost:8080/",
     "height": 281
    },
    "id": "2IKYVQ6gfIXk",
    "outputId": "f2fd236e-593e-4e74-a443-27098dc07122"
   },
   "outputs": [],
   "source": [
    "plt.subplot(1, 2, 1)\n",
    "plt.hist(ratings)\n",
    "plt.title('Predictions ; Mean = %.4f' % (np.mean(ratings)))\n",
    "plt.subplot(1, 2, 2)\n",
    "plt.hist(random_seen)\n",
    "plt.title('Random ; Mean = %.4f' % (np.mean(random_seen)))\n",
    "plt.show()"
   ]
  },
  {
   "cell_type": "markdown",
   "metadata": {
    "id": "kFimdOkLASAn"
   },
   "source": [
    "## Test set"
   ]
  },
  {
   "cell_type": "markdown",
   "metadata": {
    "id": "x49sZSZIfgfN"
   },
   "source": [
    "#### Target = False"
   ]
  },
  {
   "cell_type": "code",
   "execution_count": null,
   "metadata": {
    "ExecuteTime": {
     "end_time": "2020-11-24T14:06:54.212161Z",
     "start_time": "2020-11-24T14:05:59.017Z"
    },
    "colab": {
     "base_uri": "https://localhost:8080/",
     "height": 34
    },
    "id": "EXhBwo6t-p5R",
    "outputId": "b9fe413f-a1c0-4f1a-b075-6e167ffa3b0a"
   },
   "outputs": [],
   "source": [
    "ratings, unknown, random_seen = test_actor(actor, dg.test, embeddings, dict_embeddings, ra_length, history_length, target=False, nb_rounds=100)\n",
    "print('%0.1f%% unknown' % (100 * unknown / (len(ratings) + unknown)))"
   ]
  },
  {
   "cell_type": "code",
   "execution_count": null,
   "metadata": {
    "ExecuteTime": {
     "end_time": "2020-11-24T14:06:54.212917Z",
     "start_time": "2020-11-24T14:05:59.019Z"
    },
    "colab": {
     "base_uri": "https://localhost:8080/",
     "height": 281
    },
    "id": "PFPjENrZAVsc",
    "outputId": "c819ff25-5791-46b0-f496-ba39f2577c36"
   },
   "outputs": [],
   "source": [
    "plt.subplot(1, 2, 1)\n",
    "plt.hist(ratings)\n",
    "plt.title('Predictions ; Mean = %.4f' % (np.mean(ratings)))\n",
    "plt.subplot(1, 2, 2)\n",
    "plt.hist(random_seen)\n",
    "plt.title('Random ; Mean = %.4f' % (np.mean(random_seen)))\n",
    "plt.show()"
   ]
  },
  {
   "cell_type": "markdown",
   "metadata": {
    "id": "Wg4QPFo7fkzn"
   },
   "source": [
    "#### Target = True"
   ]
  },
  {
   "cell_type": "code",
   "execution_count": null,
   "metadata": {
    "ExecuteTime": {
     "end_time": "2020-11-24T14:06:54.213635Z",
     "start_time": "2020-11-24T14:05:59.020Z"
    },
    "colab": {
     "base_uri": "https://localhost:8080/",
     "height": 34
    },
    "id": "0HCCXmcsAYkK",
    "outputId": "63f646b3-f000-4851-ecea-96e86cf55fb2"
   },
   "outputs": [],
   "source": [
    "ratings, unknown, random_seen = test_actor(actor, dg.test, embeddings, dict_embeddings, ra_length, history_length, target=True, nb_rounds=100)\n",
    "print('%0.1f%% unknown' % (100 * unknown / (len(ratings) + unknown)))"
   ]
  },
  {
   "cell_type": "code",
   "execution_count": null,
   "metadata": {
    "ExecuteTime": {
     "end_time": "2020-11-24T14:06:54.214282Z",
     "start_time": "2020-11-24T14:05:59.021Z"
    },
    "colab": {
     "base_uri": "https://localhost:8080/",
     "height": 281
    },
    "id": "j5T4zKcJfTa1",
    "outputId": "fd0c6487-016f-49e7-c211-21194e887262"
   },
   "outputs": [],
   "source": [
    "plt.subplot(1, 2, 1)\n",
    "plt.hist(ratings)\n",
    "plt.title('Predictions ; Mean = %.4f' % (np.mean(ratings)))\n",
    "plt.subplot(1, 2, 2)\n",
    "plt.hist(random_seen)\n",
    "plt.title('Random ; Mean = %.4f' % (np.mean(random_seen)))\n",
    "plt.show()"
   ]
  },
  {
   "cell_type": "code",
   "execution_count": null,
   "metadata": {
    "id": "NVKRoOm7k_fn"
   },
   "outputs": [],
   "source": []
  }
 ],
 "metadata": {
  "accelerator": "GPU",
  "colab": {
   "collapsed_sections": [],
   "machine_shape": "hm",
   "name": "recsys_reinforcement",
   "provenance": []
  },
  "kernelspec": {
   "display_name": "aiffel",
   "language": "python",
   "name": "aiffel"
  },
  "language_info": {
   "codemirror_mode": {
    "name": "ipython",
    "version": 3
   },
   "file_extension": ".py",
   "mimetype": "text/x-python",
   "name": "python",
   "nbconvert_exporter": "python",
   "pygments_lexer": "ipython3",
   "version": "3.7.6"
  }
 },
 "nbformat": 4,
 "nbformat_minor": 1
}
